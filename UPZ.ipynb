{
  "nbformat": 4,
  "nbformat_minor": 0,
  "metadata": {
    "colab": {
      "provenance": []
    },
    "kernelspec": {
      "name": "python3",
      "display_name": "Python 3"
    },
    "language_info": {
      "name": "python"
    }
  },
  "cells": [
    {
      "cell_type": "markdown",
      "source": [
        "#**U.S. Pollution**\n",
        "\n",
        "\n",
        "---\n",
        "\n",
        "\n",
        "#####Uvod u podatkovnu znanost, 2024\n",
        "\n"
      ],
      "metadata": {
        "id": "vfpfABpxPXRT"
      }
    },
    {
      "cell_type": "markdown",
      "source": [
        "##Učitavanje i priprema podataka"
      ],
      "metadata": {
        "id": "BDk7o2IuPh0U"
      }
    },
    {
      "cell_type": "code",
      "execution_count": null,
      "metadata": {
        "colab": {
          "base_uri": "https://localhost:8080/"
        },
        "id": "Oevd_EetWiyo",
        "outputId": "8fcb1f7b-126d-41ac-edde-d61db74e37c9"
      },
      "outputs": [
        {
          "output_type": "stream",
          "name": "stdout",
          "text": [
            "Mounted at /content/drive\n"
          ]
        }
      ],
      "source": [
        "from google.colab import drive\n",
        "drive.mount('/content/drive')"
      ]
    },
    {
      "cell_type": "code",
      "source": [
        "%cd '/content/drive/MyDrive'"
      ],
      "metadata": {
        "colab": {
          "base_uri": "https://localhost:8080/"
        },
        "id": "_5jPFh7VaDkZ",
        "outputId": "a9fb3f51-3ef7-4443-fa2d-13bd1e922f8e"
      },
      "execution_count": null,
      "outputs": [
        {
          "output_type": "stream",
          "name": "stdout",
          "text": [
            "/content/drive/MyDrive\n"
          ]
        }
      ]
    },
    {
      "cell_type": "code",
      "source": [
        "import pandas as pd\n",
        "data=pd.read_csv('pollution_us_2000_2016.csv')\n",
        "data"
      ],
      "metadata": {
        "colab": {
          "base_uri": "https://localhost:8080/",
          "height": 909
        },
        "id": "Y3CRveqgaPSJ",
        "outputId": "4477aef8-500f-4e02-8c6a-8b6895181fc7"
      },
      "execution_count": null,
      "outputs": [
        {
          "output_type": "execute_result",
          "data": {
            "text/plain": [
              "         Unnamed: 0  State Code  County Code  Site Num  \\\n",
              "0                 0           4           13      3002   \n",
              "1                 1           4           13      3002   \n",
              "2                 2           4           13      3002   \n",
              "3                 3           4           13      3002   \n",
              "4                 4           4           13      3002   \n",
              "...             ...         ...          ...       ...   \n",
              "1746656       24599          56           21       100   \n",
              "1746657       24600          56           21       100   \n",
              "1746658       24601          56           21       100   \n",
              "1746659       24602          56           21       100   \n",
              "1746660       24603          56           21       100   \n",
              "\n",
              "                                         Address    State    County  \\\n",
              "0        1645 E ROOSEVELT ST-CENTRAL PHOENIX STN  Arizona  Maricopa   \n",
              "1        1645 E ROOSEVELT ST-CENTRAL PHOENIX STN  Arizona  Maricopa   \n",
              "2        1645 E ROOSEVELT ST-CENTRAL PHOENIX STN  Arizona  Maricopa   \n",
              "3        1645 E ROOSEVELT ST-CENTRAL PHOENIX STN  Arizona  Maricopa   \n",
              "4        1645 E ROOSEVELT ST-CENTRAL PHOENIX STN  Arizona  Maricopa   \n",
              "...                                          ...      ...       ...   \n",
              "1746656    NCore - North Cheyenne Soccer Complex  Wyoming   Laramie   \n",
              "1746657    NCore - North Cheyenne Soccer Complex  Wyoming   Laramie   \n",
              "1746658    NCore - North Cheyenne Soccer Complex  Wyoming   Laramie   \n",
              "1746659    NCore - North Cheyenne Soccer Complex  Wyoming   Laramie   \n",
              "1746660    NCore - North Cheyenne Soccer Complex  Wyoming   Laramie   \n",
              "\n",
              "                  City  Date Local          NO2 Units  ...          SO2 Units  \\\n",
              "0              Phoenix  2000-01-01  Parts per billion  ...  Parts per billion   \n",
              "1              Phoenix  2000-01-01  Parts per billion  ...  Parts per billion   \n",
              "2              Phoenix  2000-01-01  Parts per billion  ...  Parts per billion   \n",
              "3              Phoenix  2000-01-01  Parts per billion  ...  Parts per billion   \n",
              "4              Phoenix  2000-01-02  Parts per billion  ...  Parts per billion   \n",
              "...                ...         ...                ...  ...                ...   \n",
              "1746656  Not in a city  2016-03-30  Parts per billion  ...  Parts per billion   \n",
              "1746657  Not in a city  2016-03-31  Parts per billion  ...  Parts per billion   \n",
              "1746658  Not in a city  2016-03-31  Parts per billion  ...  Parts per billion   \n",
              "1746659  Not in a city  2016-03-31  Parts per billion  ...  Parts per billion   \n",
              "1746660  Not in a city  2016-03-31  Parts per billion  ...  Parts per billion   \n",
              "\n",
              "         SO2 Mean  SO2 1st Max Value  SO2 1st Max Hour SO2 AQI  \\\n",
              "0        3.000000                9.0                21    13.0   \n",
              "1        3.000000                9.0                21    13.0   \n",
              "2        2.975000                6.6                23     NaN   \n",
              "3        2.975000                6.6                23     NaN   \n",
              "4        1.958333                3.0                22     4.0   \n",
              "...           ...                ...               ...     ...   \n",
              "1746656  0.000000                0.0                 2     NaN   \n",
              "1746657 -0.022727                0.0                 0     0.0   \n",
              "1746658 -0.022727                0.0                 0     0.0   \n",
              "1746659  0.000000                0.0                 5     NaN   \n",
              "1746660  0.000000                0.0                 5     NaN   \n",
              "\n",
              "                  CO Units   CO Mean  CO 1st Max Value  CO 1st Max Hour CO AQI  \n",
              "0        Parts per million  1.145833             4.200               21    NaN  \n",
              "1        Parts per million  0.878947             2.200               23   25.0  \n",
              "2        Parts per million  1.145833             4.200               21    NaN  \n",
              "3        Parts per million  0.878947             2.200               23   25.0  \n",
              "4        Parts per million  0.850000             1.600               23    NaN  \n",
              "...                    ...       ...               ...              ...    ...  \n",
              "1746656  Parts per million  0.091667             0.100                2    1.0  \n",
              "1746657  Parts per million  0.067714             0.127                0    NaN  \n",
              "1746658  Parts per million  0.100000             0.100                0    1.0  \n",
              "1746659  Parts per million  0.067714             0.127                0    NaN  \n",
              "1746660  Parts per million  0.100000             0.100                0    1.0  \n",
              "\n",
              "[1746661 rows x 29 columns]"
            ],
            "text/html": [
              "\n",
              "  <div id=\"df-154488f5-709c-4a7e-aba4-bebce8f30a82\" class=\"colab-df-container\">\n",
              "    <div>\n",
              "<style scoped>\n",
              "    .dataframe tbody tr th:only-of-type {\n",
              "        vertical-align: middle;\n",
              "    }\n",
              "\n",
              "    .dataframe tbody tr th {\n",
              "        vertical-align: top;\n",
              "    }\n",
              "\n",
              "    .dataframe thead th {\n",
              "        text-align: right;\n",
              "    }\n",
              "</style>\n",
              "<table border=\"1\" class=\"dataframe\">\n",
              "  <thead>\n",
              "    <tr style=\"text-align: right;\">\n",
              "      <th></th>\n",
              "      <th>Unnamed: 0</th>\n",
              "      <th>State Code</th>\n",
              "      <th>County Code</th>\n",
              "      <th>Site Num</th>\n",
              "      <th>Address</th>\n",
              "      <th>State</th>\n",
              "      <th>County</th>\n",
              "      <th>City</th>\n",
              "      <th>Date Local</th>\n",
              "      <th>NO2 Units</th>\n",
              "      <th>...</th>\n",
              "      <th>SO2 Units</th>\n",
              "      <th>SO2 Mean</th>\n",
              "      <th>SO2 1st Max Value</th>\n",
              "      <th>SO2 1st Max Hour</th>\n",
              "      <th>SO2 AQI</th>\n",
              "      <th>CO Units</th>\n",
              "      <th>CO Mean</th>\n",
              "      <th>CO 1st Max Value</th>\n",
              "      <th>CO 1st Max Hour</th>\n",
              "      <th>CO AQI</th>\n",
              "    </tr>\n",
              "  </thead>\n",
              "  <tbody>\n",
              "    <tr>\n",
              "      <th>0</th>\n",
              "      <td>0</td>\n",
              "      <td>4</td>\n",
              "      <td>13</td>\n",
              "      <td>3002</td>\n",
              "      <td>1645 E ROOSEVELT ST-CENTRAL PHOENIX STN</td>\n",
              "      <td>Arizona</td>\n",
              "      <td>Maricopa</td>\n",
              "      <td>Phoenix</td>\n",
              "      <td>2000-01-01</td>\n",
              "      <td>Parts per billion</td>\n",
              "      <td>...</td>\n",
              "      <td>Parts per billion</td>\n",
              "      <td>3.000000</td>\n",
              "      <td>9.0</td>\n",
              "      <td>21</td>\n",
              "      <td>13.0</td>\n",
              "      <td>Parts per million</td>\n",
              "      <td>1.145833</td>\n",
              "      <td>4.200</td>\n",
              "      <td>21</td>\n",
              "      <td>NaN</td>\n",
              "    </tr>\n",
              "    <tr>\n",
              "      <th>1</th>\n",
              "      <td>1</td>\n",
              "      <td>4</td>\n",
              "      <td>13</td>\n",
              "      <td>3002</td>\n",
              "      <td>1645 E ROOSEVELT ST-CENTRAL PHOENIX STN</td>\n",
              "      <td>Arizona</td>\n",
              "      <td>Maricopa</td>\n",
              "      <td>Phoenix</td>\n",
              "      <td>2000-01-01</td>\n",
              "      <td>Parts per billion</td>\n",
              "      <td>...</td>\n",
              "      <td>Parts per billion</td>\n",
              "      <td>3.000000</td>\n",
              "      <td>9.0</td>\n",
              "      <td>21</td>\n",
              "      <td>13.0</td>\n",
              "      <td>Parts per million</td>\n",
              "      <td>0.878947</td>\n",
              "      <td>2.200</td>\n",
              "      <td>23</td>\n",
              "      <td>25.0</td>\n",
              "    </tr>\n",
              "    <tr>\n",
              "      <th>2</th>\n",
              "      <td>2</td>\n",
              "      <td>4</td>\n",
              "      <td>13</td>\n",
              "      <td>3002</td>\n",
              "      <td>1645 E ROOSEVELT ST-CENTRAL PHOENIX STN</td>\n",
              "      <td>Arizona</td>\n",
              "      <td>Maricopa</td>\n",
              "      <td>Phoenix</td>\n",
              "      <td>2000-01-01</td>\n",
              "      <td>Parts per billion</td>\n",
              "      <td>...</td>\n",
              "      <td>Parts per billion</td>\n",
              "      <td>2.975000</td>\n",
              "      <td>6.6</td>\n",
              "      <td>23</td>\n",
              "      <td>NaN</td>\n",
              "      <td>Parts per million</td>\n",
              "      <td>1.145833</td>\n",
              "      <td>4.200</td>\n",
              "      <td>21</td>\n",
              "      <td>NaN</td>\n",
              "    </tr>\n",
              "    <tr>\n",
              "      <th>3</th>\n",
              "      <td>3</td>\n",
              "      <td>4</td>\n",
              "      <td>13</td>\n",
              "      <td>3002</td>\n",
              "      <td>1645 E ROOSEVELT ST-CENTRAL PHOENIX STN</td>\n",
              "      <td>Arizona</td>\n",
              "      <td>Maricopa</td>\n",
              "      <td>Phoenix</td>\n",
              "      <td>2000-01-01</td>\n",
              "      <td>Parts per billion</td>\n",
              "      <td>...</td>\n",
              "      <td>Parts per billion</td>\n",
              "      <td>2.975000</td>\n",
              "      <td>6.6</td>\n",
              "      <td>23</td>\n",
              "      <td>NaN</td>\n",
              "      <td>Parts per million</td>\n",
              "      <td>0.878947</td>\n",
              "      <td>2.200</td>\n",
              "      <td>23</td>\n",
              "      <td>25.0</td>\n",
              "    </tr>\n",
              "    <tr>\n",
              "      <th>4</th>\n",
              "      <td>4</td>\n",
              "      <td>4</td>\n",
              "      <td>13</td>\n",
              "      <td>3002</td>\n",
              "      <td>1645 E ROOSEVELT ST-CENTRAL PHOENIX STN</td>\n",
              "      <td>Arizona</td>\n",
              "      <td>Maricopa</td>\n",
              "      <td>Phoenix</td>\n",
              "      <td>2000-01-02</td>\n",
              "      <td>Parts per billion</td>\n",
              "      <td>...</td>\n",
              "      <td>Parts per billion</td>\n",
              "      <td>1.958333</td>\n",
              "      <td>3.0</td>\n",
              "      <td>22</td>\n",
              "      <td>4.0</td>\n",
              "      <td>Parts per million</td>\n",
              "      <td>0.850000</td>\n",
              "      <td>1.600</td>\n",
              "      <td>23</td>\n",
              "      <td>NaN</td>\n",
              "    </tr>\n",
              "    <tr>\n",
              "      <th>...</th>\n",
              "      <td>...</td>\n",
              "      <td>...</td>\n",
              "      <td>...</td>\n",
              "      <td>...</td>\n",
              "      <td>...</td>\n",
              "      <td>...</td>\n",
              "      <td>...</td>\n",
              "      <td>...</td>\n",
              "      <td>...</td>\n",
              "      <td>...</td>\n",
              "      <td>...</td>\n",
              "      <td>...</td>\n",
              "      <td>...</td>\n",
              "      <td>...</td>\n",
              "      <td>...</td>\n",
              "      <td>...</td>\n",
              "      <td>...</td>\n",
              "      <td>...</td>\n",
              "      <td>...</td>\n",
              "      <td>...</td>\n",
              "      <td>...</td>\n",
              "    </tr>\n",
              "    <tr>\n",
              "      <th>1746656</th>\n",
              "      <td>24599</td>\n",
              "      <td>56</td>\n",
              "      <td>21</td>\n",
              "      <td>100</td>\n",
              "      <td>NCore - North Cheyenne Soccer Complex</td>\n",
              "      <td>Wyoming</td>\n",
              "      <td>Laramie</td>\n",
              "      <td>Not in a city</td>\n",
              "      <td>2016-03-30</td>\n",
              "      <td>Parts per billion</td>\n",
              "      <td>...</td>\n",
              "      <td>Parts per billion</td>\n",
              "      <td>0.000000</td>\n",
              "      <td>0.0</td>\n",
              "      <td>2</td>\n",
              "      <td>NaN</td>\n",
              "      <td>Parts per million</td>\n",
              "      <td>0.091667</td>\n",
              "      <td>0.100</td>\n",
              "      <td>2</td>\n",
              "      <td>1.0</td>\n",
              "    </tr>\n",
              "    <tr>\n",
              "      <th>1746657</th>\n",
              "      <td>24600</td>\n",
              "      <td>56</td>\n",
              "      <td>21</td>\n",
              "      <td>100</td>\n",
              "      <td>NCore - North Cheyenne Soccer Complex</td>\n",
              "      <td>Wyoming</td>\n",
              "      <td>Laramie</td>\n",
              "      <td>Not in a city</td>\n",
              "      <td>2016-03-31</td>\n",
              "      <td>Parts per billion</td>\n",
              "      <td>...</td>\n",
              "      <td>Parts per billion</td>\n",
              "      <td>-0.022727</td>\n",
              "      <td>0.0</td>\n",
              "      <td>0</td>\n",
              "      <td>0.0</td>\n",
              "      <td>Parts per million</td>\n",
              "      <td>0.067714</td>\n",
              "      <td>0.127</td>\n",
              "      <td>0</td>\n",
              "      <td>NaN</td>\n",
              "    </tr>\n",
              "    <tr>\n",
              "      <th>1746658</th>\n",
              "      <td>24601</td>\n",
              "      <td>56</td>\n",
              "      <td>21</td>\n",
              "      <td>100</td>\n",
              "      <td>NCore - North Cheyenne Soccer Complex</td>\n",
              "      <td>Wyoming</td>\n",
              "      <td>Laramie</td>\n",
              "      <td>Not in a city</td>\n",
              "      <td>2016-03-31</td>\n",
              "      <td>Parts per billion</td>\n",
              "      <td>...</td>\n",
              "      <td>Parts per billion</td>\n",
              "      <td>-0.022727</td>\n",
              "      <td>0.0</td>\n",
              "      <td>0</td>\n",
              "      <td>0.0</td>\n",
              "      <td>Parts per million</td>\n",
              "      <td>0.100000</td>\n",
              "      <td>0.100</td>\n",
              "      <td>0</td>\n",
              "      <td>1.0</td>\n",
              "    </tr>\n",
              "    <tr>\n",
              "      <th>1746659</th>\n",
              "      <td>24602</td>\n",
              "      <td>56</td>\n",
              "      <td>21</td>\n",
              "      <td>100</td>\n",
              "      <td>NCore - North Cheyenne Soccer Complex</td>\n",
              "      <td>Wyoming</td>\n",
              "      <td>Laramie</td>\n",
              "      <td>Not in a city</td>\n",
              "      <td>2016-03-31</td>\n",
              "      <td>Parts per billion</td>\n",
              "      <td>...</td>\n",
              "      <td>Parts per billion</td>\n",
              "      <td>0.000000</td>\n",
              "      <td>0.0</td>\n",
              "      <td>5</td>\n",
              "      <td>NaN</td>\n",
              "      <td>Parts per million</td>\n",
              "      <td>0.067714</td>\n",
              "      <td>0.127</td>\n",
              "      <td>0</td>\n",
              "      <td>NaN</td>\n",
              "    </tr>\n",
              "    <tr>\n",
              "      <th>1746660</th>\n",
              "      <td>24603</td>\n",
              "      <td>56</td>\n",
              "      <td>21</td>\n",
              "      <td>100</td>\n",
              "      <td>NCore - North Cheyenne Soccer Complex</td>\n",
              "      <td>Wyoming</td>\n",
              "      <td>Laramie</td>\n",
              "      <td>Not in a city</td>\n",
              "      <td>2016-03-31</td>\n",
              "      <td>Parts per billion</td>\n",
              "      <td>...</td>\n",
              "      <td>Parts per billion</td>\n",
              "      <td>0.000000</td>\n",
              "      <td>0.0</td>\n",
              "      <td>5</td>\n",
              "      <td>NaN</td>\n",
              "      <td>Parts per million</td>\n",
              "      <td>0.100000</td>\n",
              "      <td>0.100</td>\n",
              "      <td>0</td>\n",
              "      <td>1.0</td>\n",
              "    </tr>\n",
              "  </tbody>\n",
              "</table>\n",
              "<p>1746661 rows × 29 columns</p>\n",
              "</div>\n",
              "    <div class=\"colab-df-buttons\">\n",
              "\n",
              "  <div class=\"colab-df-container\">\n",
              "    <button class=\"colab-df-convert\" onclick=\"convertToInteractive('df-154488f5-709c-4a7e-aba4-bebce8f30a82')\"\n",
              "            title=\"Convert this dataframe to an interactive table.\"\n",
              "            style=\"display:none;\">\n",
              "\n",
              "  <svg xmlns=\"http://www.w3.org/2000/svg\" height=\"24px\" viewBox=\"0 -960 960 960\">\n",
              "    <path d=\"M120-120v-720h720v720H120Zm60-500h600v-160H180v160Zm220 220h160v-160H400v160Zm0 220h160v-160H400v160ZM180-400h160v-160H180v160Zm440 0h160v-160H620v160ZM180-180h160v-160H180v160Zm440 0h160v-160H620v160Z\"/>\n",
              "  </svg>\n",
              "    </button>\n",
              "\n",
              "  <style>\n",
              "    .colab-df-container {\n",
              "      display:flex;\n",
              "      gap: 12px;\n",
              "    }\n",
              "\n",
              "    .colab-df-convert {\n",
              "      background-color: #E8F0FE;\n",
              "      border: none;\n",
              "      border-radius: 50%;\n",
              "      cursor: pointer;\n",
              "      display: none;\n",
              "      fill: #1967D2;\n",
              "      height: 32px;\n",
              "      padding: 0 0 0 0;\n",
              "      width: 32px;\n",
              "    }\n",
              "\n",
              "    .colab-df-convert:hover {\n",
              "      background-color: #E2EBFA;\n",
              "      box-shadow: 0px 1px 2px rgba(60, 64, 67, 0.3), 0px 1px 3px 1px rgba(60, 64, 67, 0.15);\n",
              "      fill: #174EA6;\n",
              "    }\n",
              "\n",
              "    .colab-df-buttons div {\n",
              "      margin-bottom: 4px;\n",
              "    }\n",
              "\n",
              "    [theme=dark] .colab-df-convert {\n",
              "      background-color: #3B4455;\n",
              "      fill: #D2E3FC;\n",
              "    }\n",
              "\n",
              "    [theme=dark] .colab-df-convert:hover {\n",
              "      background-color: #434B5C;\n",
              "      box-shadow: 0px 1px 3px 1px rgba(0, 0, 0, 0.15);\n",
              "      filter: drop-shadow(0px 1px 2px rgba(0, 0, 0, 0.3));\n",
              "      fill: #FFFFFF;\n",
              "    }\n",
              "  </style>\n",
              "\n",
              "    <script>\n",
              "      const buttonEl =\n",
              "        document.querySelector('#df-154488f5-709c-4a7e-aba4-bebce8f30a82 button.colab-df-convert');\n",
              "      buttonEl.style.display =\n",
              "        google.colab.kernel.accessAllowed ? 'block' : 'none';\n",
              "\n",
              "      async function convertToInteractive(key) {\n",
              "        const element = document.querySelector('#df-154488f5-709c-4a7e-aba4-bebce8f30a82');\n",
              "        const dataTable =\n",
              "          await google.colab.kernel.invokeFunction('convertToInteractive',\n",
              "                                                    [key], {});\n",
              "        if (!dataTable) return;\n",
              "\n",
              "        const docLinkHtml = 'Like what you see? Visit the ' +\n",
              "          '<a target=\"_blank\" href=https://colab.research.google.com/notebooks/data_table.ipynb>data table notebook</a>'\n",
              "          + ' to learn more about interactive tables.';\n",
              "        element.innerHTML = '';\n",
              "        dataTable['output_type'] = 'display_data';\n",
              "        await google.colab.output.renderOutput(dataTable, element);\n",
              "        const docLink = document.createElement('div');\n",
              "        docLink.innerHTML = docLinkHtml;\n",
              "        element.appendChild(docLink);\n",
              "      }\n",
              "    </script>\n",
              "  </div>\n",
              "\n",
              "\n",
              "<div id=\"df-ea8f2b11-bb26-4b90-98d4-a5513cebc80e\">\n",
              "  <button class=\"colab-df-quickchart\" onclick=\"quickchart('df-ea8f2b11-bb26-4b90-98d4-a5513cebc80e')\"\n",
              "            title=\"Suggest charts\"\n",
              "            style=\"display:none;\">\n",
              "\n",
              "<svg xmlns=\"http://www.w3.org/2000/svg\" height=\"24px\"viewBox=\"0 0 24 24\"\n",
              "     width=\"24px\">\n",
              "    <g>\n",
              "        <path d=\"M19 3H5c-1.1 0-2 .9-2 2v14c0 1.1.9 2 2 2h14c1.1 0 2-.9 2-2V5c0-1.1-.9-2-2-2zM9 17H7v-7h2v7zm4 0h-2V7h2v10zm4 0h-2v-4h2v4z\"/>\n",
              "    </g>\n",
              "</svg>\n",
              "  </button>\n",
              "\n",
              "<style>\n",
              "  .colab-df-quickchart {\n",
              "      --bg-color: #E8F0FE;\n",
              "      --fill-color: #1967D2;\n",
              "      --hover-bg-color: #E2EBFA;\n",
              "      --hover-fill-color: #174EA6;\n",
              "      --disabled-fill-color: #AAA;\n",
              "      --disabled-bg-color: #DDD;\n",
              "  }\n",
              "\n",
              "  [theme=dark] .colab-df-quickchart {\n",
              "      --bg-color: #3B4455;\n",
              "      --fill-color: #D2E3FC;\n",
              "      --hover-bg-color: #434B5C;\n",
              "      --hover-fill-color: #FFFFFF;\n",
              "      --disabled-bg-color: #3B4455;\n",
              "      --disabled-fill-color: #666;\n",
              "  }\n",
              "\n",
              "  .colab-df-quickchart {\n",
              "    background-color: var(--bg-color);\n",
              "    border: none;\n",
              "    border-radius: 50%;\n",
              "    cursor: pointer;\n",
              "    display: none;\n",
              "    fill: var(--fill-color);\n",
              "    height: 32px;\n",
              "    padding: 0;\n",
              "    width: 32px;\n",
              "  }\n",
              "\n",
              "  .colab-df-quickchart:hover {\n",
              "    background-color: var(--hover-bg-color);\n",
              "    box-shadow: 0 1px 2px rgba(60, 64, 67, 0.3), 0 1px 3px 1px rgba(60, 64, 67, 0.15);\n",
              "    fill: var(--button-hover-fill-color);\n",
              "  }\n",
              "\n",
              "  .colab-df-quickchart-complete:disabled,\n",
              "  .colab-df-quickchart-complete:disabled:hover {\n",
              "    background-color: var(--disabled-bg-color);\n",
              "    fill: var(--disabled-fill-color);\n",
              "    box-shadow: none;\n",
              "  }\n",
              "\n",
              "  .colab-df-spinner {\n",
              "    border: 2px solid var(--fill-color);\n",
              "    border-color: transparent;\n",
              "    border-bottom-color: var(--fill-color);\n",
              "    animation:\n",
              "      spin 1s steps(1) infinite;\n",
              "  }\n",
              "\n",
              "  @keyframes spin {\n",
              "    0% {\n",
              "      border-color: transparent;\n",
              "      border-bottom-color: var(--fill-color);\n",
              "      border-left-color: var(--fill-color);\n",
              "    }\n",
              "    20% {\n",
              "      border-color: transparent;\n",
              "      border-left-color: var(--fill-color);\n",
              "      border-top-color: var(--fill-color);\n",
              "    }\n",
              "    30% {\n",
              "      border-color: transparent;\n",
              "      border-left-color: var(--fill-color);\n",
              "      border-top-color: var(--fill-color);\n",
              "      border-right-color: var(--fill-color);\n",
              "    }\n",
              "    40% {\n",
              "      border-color: transparent;\n",
              "      border-right-color: var(--fill-color);\n",
              "      border-top-color: var(--fill-color);\n",
              "    }\n",
              "    60% {\n",
              "      border-color: transparent;\n",
              "      border-right-color: var(--fill-color);\n",
              "    }\n",
              "    80% {\n",
              "      border-color: transparent;\n",
              "      border-right-color: var(--fill-color);\n",
              "      border-bottom-color: var(--fill-color);\n",
              "    }\n",
              "    90% {\n",
              "      border-color: transparent;\n",
              "      border-bottom-color: var(--fill-color);\n",
              "    }\n",
              "  }\n",
              "</style>\n",
              "\n",
              "  <script>\n",
              "    async function quickchart(key) {\n",
              "      const quickchartButtonEl =\n",
              "        document.querySelector('#' + key + ' button');\n",
              "      quickchartButtonEl.disabled = true;  // To prevent multiple clicks.\n",
              "      quickchartButtonEl.classList.add('colab-df-spinner');\n",
              "      try {\n",
              "        const charts = await google.colab.kernel.invokeFunction(\n",
              "            'suggestCharts', [key], {});\n",
              "      } catch (error) {\n",
              "        console.error('Error during call to suggestCharts:', error);\n",
              "      }\n",
              "      quickchartButtonEl.classList.remove('colab-df-spinner');\n",
              "      quickchartButtonEl.classList.add('colab-df-quickchart-complete');\n",
              "    }\n",
              "    (() => {\n",
              "      let quickchartButtonEl =\n",
              "        document.querySelector('#df-ea8f2b11-bb26-4b90-98d4-a5513cebc80e button');\n",
              "      quickchartButtonEl.style.display =\n",
              "        google.colab.kernel.accessAllowed ? 'block' : 'none';\n",
              "    })();\n",
              "  </script>\n",
              "</div>\n",
              "    </div>\n",
              "  </div>\n"
            ]
          },
          "metadata": {},
          "execution_count": 3
        }
      ]
    },
    {
      "cell_type": "code",
      "source": [
        "data.columns"
      ],
      "metadata": {
        "colab": {
          "base_uri": "https://localhost:8080/"
        },
        "id": "JiUsNOYsGQm8",
        "outputId": "f1f2bff5-c13e-4635-b71b-b46652b77188"
      },
      "execution_count": null,
      "outputs": [
        {
          "output_type": "execute_result",
          "data": {
            "text/plain": [
              "Index(['Unnamed: 0', 'State Code', 'County Code', 'Site Num', 'Address',\n",
              "       'State', 'County', 'City', 'Date Local', 'NO2 Units', 'NO2 Mean',\n",
              "       'NO2 1st Max Value', 'NO2 1st Max Hour', 'NO2 AQI', 'O3 Units',\n",
              "       'O3 Mean', 'O3 1st Max Value', 'O3 1st Max Hour', 'O3 AQI', 'SO2 Units',\n",
              "       'SO2 Mean', 'SO2 1st Max Value', 'SO2 1st Max Hour', 'SO2 AQI',\n",
              "       'CO Units', 'CO Mean', 'CO 1st Max Value', 'CO 1st Max Hour', 'CO AQI'],\n",
              "      dtype='object')"
            ]
          },
          "metadata": {},
          "execution_count": 4
        }
      ]
    },
    {
      "cell_type": "code",
      "source": [
        "data.describe()"
      ],
      "metadata": {
        "colab": {
          "base_uri": "https://localhost:8080/",
          "height": 355
        },
        "id": "KIb74VKVao6q",
        "outputId": "04b2cca1-ef6a-45b8-e1c2-da803814d87f"
      },
      "execution_count": null,
      "outputs": [
        {
          "output_type": "execute_result",
          "data": {
            "text/plain": [
              "         Unnamed: 0    State Code   County Code      Site Num      NO2 Mean  \\\n",
              "count  1.746661e+06  1.746661e+06  1.746661e+06  1.746661e+06  1.746661e+06   \n",
              "mean   5.471414e+04  2.230907e+01  7.169381e+01  1.118214e+03  1.282193e+01   \n",
              "std    3.372908e+04  1.725621e+01  7.948023e+01  2.003103e+03  9.504814e+00   \n",
              "min    0.000000e+00  1.000000e+00  1.000000e+00  1.000000e+00 -2.000000e+00   \n",
              "25%    2.575300e+04  6.000000e+00  1.700000e+01  9.000000e+00  5.750000e+00   \n",
              "50%    5.304500e+04  1.700000e+01  5.900000e+01  6.000000e+01  1.073913e+01   \n",
              "75%    8.033600e+04  4.000000e+01  9.700000e+01  1.039000e+03  1.771364e+01   \n",
              "max    1.345750e+05  8.000000e+01  6.500000e+02  9.997000e+03  1.395417e+02   \n",
              "\n",
              "       NO2 1st Max Value  NO2 1st Max Hour       NO2 AQI       O3 Mean  \\\n",
              "count       1.746661e+06      1.746661e+06  1.746661e+06  1.746661e+06   \n",
              "mean        2.541485e+01      1.173102e+01  2.389822e+01  2.612485e-02   \n",
              "std         1.599963e+01      7.877501e+00  1.516280e+01  1.136974e-02   \n",
              "min        -2.000000e+00      0.000000e+00  0.000000e+00  0.000000e+00   \n",
              "25%         1.300000e+01      5.000000e+00  1.200000e+01  1.787500e-02   \n",
              "50%         2.400000e+01      9.000000e+00  2.300000e+01  2.587500e-02   \n",
              "75%         3.570000e+01      2.000000e+01  3.300000e+01  3.391700e-02   \n",
              "max         2.670000e+02      2.300000e+01  1.320000e+02  9.508300e-02   \n",
              "\n",
              "       O3 1st Max Value  O3 1st Max Hour        O3 AQI      SO2 Mean  \\\n",
              "count      1.746661e+06     1.746661e+06  1.746661e+06  1.746661e+06   \n",
              "mean       3.920331e-02     1.017053e+01  3.605012e+01  1.870364e+00   \n",
              "std        1.534362e-02     4.003144e+00  1.978042e+01  2.760435e+00   \n",
              "min        0.000000e+00     0.000000e+00  0.000000e+00 -2.000000e+00   \n",
              "25%        2.900000e-02     9.000000e+00  2.500000e+01  2.565220e-01   \n",
              "50%        3.800000e-02     1.000000e+01  3.300000e+01  9.875000e-01   \n",
              "75%        4.800000e-02     1.100000e+01  4.200000e+01  2.325000e+00   \n",
              "max        1.410000e-01     2.300000e+01  2.180000e+02  3.216250e+02   \n",
              "\n",
              "       SO2 1st Max Value  SO2 1st Max Hour        SO2 AQI       CO Mean  \\\n",
              "count       1.746661e+06      1.746661e+06  873754.000000  1.746661e+06   \n",
              "mean        4.492185e+00      9.664906e+00       7.115945  3.682177e-01   \n",
              "std         7.679866e+00      6.731228e+00      11.937473  3.140231e-01   \n",
              "min        -2.000000e+00      0.000000e+00       0.000000 -4.375000e-01   \n",
              "25%         8.000000e-01      5.000000e+00       1.000000  1.834580e-01   \n",
              "50%         2.000000e+00      8.000000e+00       3.000000  2.926250e-01   \n",
              "75%         5.000000e+00      1.400000e+01       9.000000  4.666670e-01   \n",
              "max         3.510000e+02      2.300000e+01     200.000000  7.508333e+00   \n",
              "\n",
              "       CO 1st Max Value  CO 1st Max Hour         CO AQI  \n",
              "count      1.746661e+06     1.746661e+06  873338.000000  \n",
              "mean       6.201067e-01     7.875026e+00       5.996595  \n",
              "std        6.439361e-01     7.978844e+00       5.851836  \n",
              "min       -4.000000e-01     0.000000e+00       0.000000  \n",
              "25%        2.920000e-01     0.000000e+00       2.000000  \n",
              "50%        4.000000e-01     6.000000e+00       5.000000  \n",
              "75%        8.000000e-01     1.300000e+01       8.000000  \n",
              "max        1.990000e+01     2.300000e+01     201.000000  "
            ],
            "text/html": [
              "\n",
              "  <div id=\"df-ea4a1ccc-5591-492e-b3c7-4e3df728706c\" class=\"colab-df-container\">\n",
              "    <div>\n",
              "<style scoped>\n",
              "    .dataframe tbody tr th:only-of-type {\n",
              "        vertical-align: middle;\n",
              "    }\n",
              "\n",
              "    .dataframe tbody tr th {\n",
              "        vertical-align: top;\n",
              "    }\n",
              "\n",
              "    .dataframe thead th {\n",
              "        text-align: right;\n",
              "    }\n",
              "</style>\n",
              "<table border=\"1\" class=\"dataframe\">\n",
              "  <thead>\n",
              "    <tr style=\"text-align: right;\">\n",
              "      <th></th>\n",
              "      <th>Unnamed: 0</th>\n",
              "      <th>State Code</th>\n",
              "      <th>County Code</th>\n",
              "      <th>Site Num</th>\n",
              "      <th>NO2 Mean</th>\n",
              "      <th>NO2 1st Max Value</th>\n",
              "      <th>NO2 1st Max Hour</th>\n",
              "      <th>NO2 AQI</th>\n",
              "      <th>O3 Mean</th>\n",
              "      <th>O3 1st Max Value</th>\n",
              "      <th>O3 1st Max Hour</th>\n",
              "      <th>O3 AQI</th>\n",
              "      <th>SO2 Mean</th>\n",
              "      <th>SO2 1st Max Value</th>\n",
              "      <th>SO2 1st Max Hour</th>\n",
              "      <th>SO2 AQI</th>\n",
              "      <th>CO Mean</th>\n",
              "      <th>CO 1st Max Value</th>\n",
              "      <th>CO 1st Max Hour</th>\n",
              "      <th>CO AQI</th>\n",
              "    </tr>\n",
              "  </thead>\n",
              "  <tbody>\n",
              "    <tr>\n",
              "      <th>count</th>\n",
              "      <td>1.746661e+06</td>\n",
              "      <td>1.746661e+06</td>\n",
              "      <td>1.746661e+06</td>\n",
              "      <td>1.746661e+06</td>\n",
              "      <td>1.746661e+06</td>\n",
              "      <td>1.746661e+06</td>\n",
              "      <td>1.746661e+06</td>\n",
              "      <td>1.746661e+06</td>\n",
              "      <td>1.746661e+06</td>\n",
              "      <td>1.746661e+06</td>\n",
              "      <td>1.746661e+06</td>\n",
              "      <td>1.746661e+06</td>\n",
              "      <td>1.746661e+06</td>\n",
              "      <td>1.746661e+06</td>\n",
              "      <td>1.746661e+06</td>\n",
              "      <td>873754.000000</td>\n",
              "      <td>1.746661e+06</td>\n",
              "      <td>1.746661e+06</td>\n",
              "      <td>1.746661e+06</td>\n",
              "      <td>873338.000000</td>\n",
              "    </tr>\n",
              "    <tr>\n",
              "      <th>mean</th>\n",
              "      <td>5.471414e+04</td>\n",
              "      <td>2.230907e+01</td>\n",
              "      <td>7.169381e+01</td>\n",
              "      <td>1.118214e+03</td>\n",
              "      <td>1.282193e+01</td>\n",
              "      <td>2.541485e+01</td>\n",
              "      <td>1.173102e+01</td>\n",
              "      <td>2.389822e+01</td>\n",
              "      <td>2.612485e-02</td>\n",
              "      <td>3.920331e-02</td>\n",
              "      <td>1.017053e+01</td>\n",
              "      <td>3.605012e+01</td>\n",
              "      <td>1.870364e+00</td>\n",
              "      <td>4.492185e+00</td>\n",
              "      <td>9.664906e+00</td>\n",
              "      <td>7.115945</td>\n",
              "      <td>3.682177e-01</td>\n",
              "      <td>6.201067e-01</td>\n",
              "      <td>7.875026e+00</td>\n",
              "      <td>5.996595</td>\n",
              "    </tr>\n",
              "    <tr>\n",
              "      <th>std</th>\n",
              "      <td>3.372908e+04</td>\n",
              "      <td>1.725621e+01</td>\n",
              "      <td>7.948023e+01</td>\n",
              "      <td>2.003103e+03</td>\n",
              "      <td>9.504814e+00</td>\n",
              "      <td>1.599963e+01</td>\n",
              "      <td>7.877501e+00</td>\n",
              "      <td>1.516280e+01</td>\n",
              "      <td>1.136974e-02</td>\n",
              "      <td>1.534362e-02</td>\n",
              "      <td>4.003144e+00</td>\n",
              "      <td>1.978042e+01</td>\n",
              "      <td>2.760435e+00</td>\n",
              "      <td>7.679866e+00</td>\n",
              "      <td>6.731228e+00</td>\n",
              "      <td>11.937473</td>\n",
              "      <td>3.140231e-01</td>\n",
              "      <td>6.439361e-01</td>\n",
              "      <td>7.978844e+00</td>\n",
              "      <td>5.851836</td>\n",
              "    </tr>\n",
              "    <tr>\n",
              "      <th>min</th>\n",
              "      <td>0.000000e+00</td>\n",
              "      <td>1.000000e+00</td>\n",
              "      <td>1.000000e+00</td>\n",
              "      <td>1.000000e+00</td>\n",
              "      <td>-2.000000e+00</td>\n",
              "      <td>-2.000000e+00</td>\n",
              "      <td>0.000000e+00</td>\n",
              "      <td>0.000000e+00</td>\n",
              "      <td>0.000000e+00</td>\n",
              "      <td>0.000000e+00</td>\n",
              "      <td>0.000000e+00</td>\n",
              "      <td>0.000000e+00</td>\n",
              "      <td>-2.000000e+00</td>\n",
              "      <td>-2.000000e+00</td>\n",
              "      <td>0.000000e+00</td>\n",
              "      <td>0.000000</td>\n",
              "      <td>-4.375000e-01</td>\n",
              "      <td>-4.000000e-01</td>\n",
              "      <td>0.000000e+00</td>\n",
              "      <td>0.000000</td>\n",
              "    </tr>\n",
              "    <tr>\n",
              "      <th>25%</th>\n",
              "      <td>2.575300e+04</td>\n",
              "      <td>6.000000e+00</td>\n",
              "      <td>1.700000e+01</td>\n",
              "      <td>9.000000e+00</td>\n",
              "      <td>5.750000e+00</td>\n",
              "      <td>1.300000e+01</td>\n",
              "      <td>5.000000e+00</td>\n",
              "      <td>1.200000e+01</td>\n",
              "      <td>1.787500e-02</td>\n",
              "      <td>2.900000e-02</td>\n",
              "      <td>9.000000e+00</td>\n",
              "      <td>2.500000e+01</td>\n",
              "      <td>2.565220e-01</td>\n",
              "      <td>8.000000e-01</td>\n",
              "      <td>5.000000e+00</td>\n",
              "      <td>1.000000</td>\n",
              "      <td>1.834580e-01</td>\n",
              "      <td>2.920000e-01</td>\n",
              "      <td>0.000000e+00</td>\n",
              "      <td>2.000000</td>\n",
              "    </tr>\n",
              "    <tr>\n",
              "      <th>50%</th>\n",
              "      <td>5.304500e+04</td>\n",
              "      <td>1.700000e+01</td>\n",
              "      <td>5.900000e+01</td>\n",
              "      <td>6.000000e+01</td>\n",
              "      <td>1.073913e+01</td>\n",
              "      <td>2.400000e+01</td>\n",
              "      <td>9.000000e+00</td>\n",
              "      <td>2.300000e+01</td>\n",
              "      <td>2.587500e-02</td>\n",
              "      <td>3.800000e-02</td>\n",
              "      <td>1.000000e+01</td>\n",
              "      <td>3.300000e+01</td>\n",
              "      <td>9.875000e-01</td>\n",
              "      <td>2.000000e+00</td>\n",
              "      <td>8.000000e+00</td>\n",
              "      <td>3.000000</td>\n",
              "      <td>2.926250e-01</td>\n",
              "      <td>4.000000e-01</td>\n",
              "      <td>6.000000e+00</td>\n",
              "      <td>5.000000</td>\n",
              "    </tr>\n",
              "    <tr>\n",
              "      <th>75%</th>\n",
              "      <td>8.033600e+04</td>\n",
              "      <td>4.000000e+01</td>\n",
              "      <td>9.700000e+01</td>\n",
              "      <td>1.039000e+03</td>\n",
              "      <td>1.771364e+01</td>\n",
              "      <td>3.570000e+01</td>\n",
              "      <td>2.000000e+01</td>\n",
              "      <td>3.300000e+01</td>\n",
              "      <td>3.391700e-02</td>\n",
              "      <td>4.800000e-02</td>\n",
              "      <td>1.100000e+01</td>\n",
              "      <td>4.200000e+01</td>\n",
              "      <td>2.325000e+00</td>\n",
              "      <td>5.000000e+00</td>\n",
              "      <td>1.400000e+01</td>\n",
              "      <td>9.000000</td>\n",
              "      <td>4.666670e-01</td>\n",
              "      <td>8.000000e-01</td>\n",
              "      <td>1.300000e+01</td>\n",
              "      <td>8.000000</td>\n",
              "    </tr>\n",
              "    <tr>\n",
              "      <th>max</th>\n",
              "      <td>1.345750e+05</td>\n",
              "      <td>8.000000e+01</td>\n",
              "      <td>6.500000e+02</td>\n",
              "      <td>9.997000e+03</td>\n",
              "      <td>1.395417e+02</td>\n",
              "      <td>2.670000e+02</td>\n",
              "      <td>2.300000e+01</td>\n",
              "      <td>1.320000e+02</td>\n",
              "      <td>9.508300e-02</td>\n",
              "      <td>1.410000e-01</td>\n",
              "      <td>2.300000e+01</td>\n",
              "      <td>2.180000e+02</td>\n",
              "      <td>3.216250e+02</td>\n",
              "      <td>3.510000e+02</td>\n",
              "      <td>2.300000e+01</td>\n",
              "      <td>200.000000</td>\n",
              "      <td>7.508333e+00</td>\n",
              "      <td>1.990000e+01</td>\n",
              "      <td>2.300000e+01</td>\n",
              "      <td>201.000000</td>\n",
              "    </tr>\n",
              "  </tbody>\n",
              "</table>\n",
              "</div>\n",
              "    <div class=\"colab-df-buttons\">\n",
              "\n",
              "  <div class=\"colab-df-container\">\n",
              "    <button class=\"colab-df-convert\" onclick=\"convertToInteractive('df-ea4a1ccc-5591-492e-b3c7-4e3df728706c')\"\n",
              "            title=\"Convert this dataframe to an interactive table.\"\n",
              "            style=\"display:none;\">\n",
              "\n",
              "  <svg xmlns=\"http://www.w3.org/2000/svg\" height=\"24px\" viewBox=\"0 -960 960 960\">\n",
              "    <path d=\"M120-120v-720h720v720H120Zm60-500h600v-160H180v160Zm220 220h160v-160H400v160Zm0 220h160v-160H400v160ZM180-400h160v-160H180v160Zm440 0h160v-160H620v160ZM180-180h160v-160H180v160Zm440 0h160v-160H620v160Z\"/>\n",
              "  </svg>\n",
              "    </button>\n",
              "\n",
              "  <style>\n",
              "    .colab-df-container {\n",
              "      display:flex;\n",
              "      gap: 12px;\n",
              "    }\n",
              "\n",
              "    .colab-df-convert {\n",
              "      background-color: #E8F0FE;\n",
              "      border: none;\n",
              "      border-radius: 50%;\n",
              "      cursor: pointer;\n",
              "      display: none;\n",
              "      fill: #1967D2;\n",
              "      height: 32px;\n",
              "      padding: 0 0 0 0;\n",
              "      width: 32px;\n",
              "    }\n",
              "\n",
              "    .colab-df-convert:hover {\n",
              "      background-color: #E2EBFA;\n",
              "      box-shadow: 0px 1px 2px rgba(60, 64, 67, 0.3), 0px 1px 3px 1px rgba(60, 64, 67, 0.15);\n",
              "      fill: #174EA6;\n",
              "    }\n",
              "\n",
              "    .colab-df-buttons div {\n",
              "      margin-bottom: 4px;\n",
              "    }\n",
              "\n",
              "    [theme=dark] .colab-df-convert {\n",
              "      background-color: #3B4455;\n",
              "      fill: #D2E3FC;\n",
              "    }\n",
              "\n",
              "    [theme=dark] .colab-df-convert:hover {\n",
              "      background-color: #434B5C;\n",
              "      box-shadow: 0px 1px 3px 1px rgba(0, 0, 0, 0.15);\n",
              "      filter: drop-shadow(0px 1px 2px rgba(0, 0, 0, 0.3));\n",
              "      fill: #FFFFFF;\n",
              "    }\n",
              "  </style>\n",
              "\n",
              "    <script>\n",
              "      const buttonEl =\n",
              "        document.querySelector('#df-ea4a1ccc-5591-492e-b3c7-4e3df728706c button.colab-df-convert');\n",
              "      buttonEl.style.display =\n",
              "        google.colab.kernel.accessAllowed ? 'block' : 'none';\n",
              "\n",
              "      async function convertToInteractive(key) {\n",
              "        const element = document.querySelector('#df-ea4a1ccc-5591-492e-b3c7-4e3df728706c');\n",
              "        const dataTable =\n",
              "          await google.colab.kernel.invokeFunction('convertToInteractive',\n",
              "                                                    [key], {});\n",
              "        if (!dataTable) return;\n",
              "\n",
              "        const docLinkHtml = 'Like what you see? Visit the ' +\n",
              "          '<a target=\"_blank\" href=https://colab.research.google.com/notebooks/data_table.ipynb>data table notebook</a>'\n",
              "          + ' to learn more about interactive tables.';\n",
              "        element.innerHTML = '';\n",
              "        dataTable['output_type'] = 'display_data';\n",
              "        await google.colab.output.renderOutput(dataTable, element);\n",
              "        const docLink = document.createElement('div');\n",
              "        docLink.innerHTML = docLinkHtml;\n",
              "        element.appendChild(docLink);\n",
              "      }\n",
              "    </script>\n",
              "  </div>\n",
              "\n",
              "\n",
              "<div id=\"df-d674e29b-2800-4b17-9e48-37fbbbb1a574\">\n",
              "  <button class=\"colab-df-quickchart\" onclick=\"quickchart('df-d674e29b-2800-4b17-9e48-37fbbbb1a574')\"\n",
              "            title=\"Suggest charts\"\n",
              "            style=\"display:none;\">\n",
              "\n",
              "<svg xmlns=\"http://www.w3.org/2000/svg\" height=\"24px\"viewBox=\"0 0 24 24\"\n",
              "     width=\"24px\">\n",
              "    <g>\n",
              "        <path d=\"M19 3H5c-1.1 0-2 .9-2 2v14c0 1.1.9 2 2 2h14c1.1 0 2-.9 2-2V5c0-1.1-.9-2-2-2zM9 17H7v-7h2v7zm4 0h-2V7h2v10zm4 0h-2v-4h2v4z\"/>\n",
              "    </g>\n",
              "</svg>\n",
              "  </button>\n",
              "\n",
              "<style>\n",
              "  .colab-df-quickchart {\n",
              "      --bg-color: #E8F0FE;\n",
              "      --fill-color: #1967D2;\n",
              "      --hover-bg-color: #E2EBFA;\n",
              "      --hover-fill-color: #174EA6;\n",
              "      --disabled-fill-color: #AAA;\n",
              "      --disabled-bg-color: #DDD;\n",
              "  }\n",
              "\n",
              "  [theme=dark] .colab-df-quickchart {\n",
              "      --bg-color: #3B4455;\n",
              "      --fill-color: #D2E3FC;\n",
              "      --hover-bg-color: #434B5C;\n",
              "      --hover-fill-color: #FFFFFF;\n",
              "      --disabled-bg-color: #3B4455;\n",
              "      --disabled-fill-color: #666;\n",
              "  }\n",
              "\n",
              "  .colab-df-quickchart {\n",
              "    background-color: var(--bg-color);\n",
              "    border: none;\n",
              "    border-radius: 50%;\n",
              "    cursor: pointer;\n",
              "    display: none;\n",
              "    fill: var(--fill-color);\n",
              "    height: 32px;\n",
              "    padding: 0;\n",
              "    width: 32px;\n",
              "  }\n",
              "\n",
              "  .colab-df-quickchart:hover {\n",
              "    background-color: var(--hover-bg-color);\n",
              "    box-shadow: 0 1px 2px rgba(60, 64, 67, 0.3), 0 1px 3px 1px rgba(60, 64, 67, 0.15);\n",
              "    fill: var(--button-hover-fill-color);\n",
              "  }\n",
              "\n",
              "  .colab-df-quickchart-complete:disabled,\n",
              "  .colab-df-quickchart-complete:disabled:hover {\n",
              "    background-color: var(--disabled-bg-color);\n",
              "    fill: var(--disabled-fill-color);\n",
              "    box-shadow: none;\n",
              "  }\n",
              "\n",
              "  .colab-df-spinner {\n",
              "    border: 2px solid var(--fill-color);\n",
              "    border-color: transparent;\n",
              "    border-bottom-color: var(--fill-color);\n",
              "    animation:\n",
              "      spin 1s steps(1) infinite;\n",
              "  }\n",
              "\n",
              "  @keyframes spin {\n",
              "    0% {\n",
              "      border-color: transparent;\n",
              "      border-bottom-color: var(--fill-color);\n",
              "      border-left-color: var(--fill-color);\n",
              "    }\n",
              "    20% {\n",
              "      border-color: transparent;\n",
              "      border-left-color: var(--fill-color);\n",
              "      border-top-color: var(--fill-color);\n",
              "    }\n",
              "    30% {\n",
              "      border-color: transparent;\n",
              "      border-left-color: var(--fill-color);\n",
              "      border-top-color: var(--fill-color);\n",
              "      border-right-color: var(--fill-color);\n",
              "    }\n",
              "    40% {\n",
              "      border-color: transparent;\n",
              "      border-right-color: var(--fill-color);\n",
              "      border-top-color: var(--fill-color);\n",
              "    }\n",
              "    60% {\n",
              "      border-color: transparent;\n",
              "      border-right-color: var(--fill-color);\n",
              "    }\n",
              "    80% {\n",
              "      border-color: transparent;\n",
              "      border-right-color: var(--fill-color);\n",
              "      border-bottom-color: var(--fill-color);\n",
              "    }\n",
              "    90% {\n",
              "      border-color: transparent;\n",
              "      border-bottom-color: var(--fill-color);\n",
              "    }\n",
              "  }\n",
              "</style>\n",
              "\n",
              "  <script>\n",
              "    async function quickchart(key) {\n",
              "      const quickchartButtonEl =\n",
              "        document.querySelector('#' + key + ' button');\n",
              "      quickchartButtonEl.disabled = true;  // To prevent multiple clicks.\n",
              "      quickchartButtonEl.classList.add('colab-df-spinner');\n",
              "      try {\n",
              "        const charts = await google.colab.kernel.invokeFunction(\n",
              "            'suggestCharts', [key], {});\n",
              "      } catch (error) {\n",
              "        console.error('Error during call to suggestCharts:', error);\n",
              "      }\n",
              "      quickchartButtonEl.classList.remove('colab-df-spinner');\n",
              "      quickchartButtonEl.classList.add('colab-df-quickchart-complete');\n",
              "    }\n",
              "    (() => {\n",
              "      let quickchartButtonEl =\n",
              "        document.querySelector('#df-d674e29b-2800-4b17-9e48-37fbbbb1a574 button');\n",
              "      quickchartButtonEl.style.display =\n",
              "        google.colab.kernel.accessAllowed ? 'block' : 'none';\n",
              "    })();\n",
              "  </script>\n",
              "</div>\n",
              "    </div>\n",
              "  </div>\n"
            ]
          },
          "metadata": {},
          "execution_count": 5
        }
      ]
    },
    {
      "cell_type": "code",
      "source": [
        "data.isna().sum()"
      ],
      "metadata": {
        "colab": {
          "base_uri": "https://localhost:8080/"
        },
        "id": "jj8T7Xw7atSG",
        "outputId": "7ad080d1-b5f6-47d7-fbdf-d12f2eec63da"
      },
      "execution_count": null,
      "outputs": [
        {
          "output_type": "execute_result",
          "data": {
            "text/plain": [
              "Unnamed: 0                0\n",
              "State Code                0\n",
              "County Code               0\n",
              "Site Num                  0\n",
              "Address                   0\n",
              "State                     0\n",
              "County                    0\n",
              "City                      0\n",
              "Date Local                0\n",
              "NO2 Units                 0\n",
              "NO2 Mean                  0\n",
              "NO2 1st Max Value         0\n",
              "NO2 1st Max Hour          0\n",
              "NO2 AQI                   0\n",
              "O3 Units                  0\n",
              "O3 Mean                   0\n",
              "O3 1st Max Value          0\n",
              "O3 1st Max Hour           0\n",
              "O3 AQI                    0\n",
              "SO2 Units                 0\n",
              "SO2 Mean                  0\n",
              "SO2 1st Max Value         0\n",
              "SO2 1st Max Hour          0\n",
              "SO2 AQI              872907\n",
              "CO Units                  0\n",
              "CO Mean                   0\n",
              "CO 1st Max Value          0\n",
              "CO 1st Max Hour           0\n",
              "CO AQI               873323\n",
              "dtype: int64"
            ]
          },
          "metadata": {},
          "execution_count": 6
        }
      ]
    },
    {
      "cell_type": "code",
      "source": [
        "data.dropna(inplace=True)"
      ],
      "metadata": {
        "id": "Hckoe-Mhaw3T"
      },
      "execution_count": null,
      "outputs": []
    },
    {
      "cell_type": "code",
      "source": [
        "data.isna().sum()"
      ],
      "metadata": {
        "colab": {
          "base_uri": "https://localhost:8080/"
        },
        "id": "cj6jWKKEa3yt",
        "outputId": "45b88374-6a17-4790-c695-90b391d7d771"
      },
      "execution_count": null,
      "outputs": [
        {
          "output_type": "execute_result",
          "data": {
            "text/plain": [
              "Unnamed: 0           0\n",
              "State Code           0\n",
              "County Code          0\n",
              "Site Num             0\n",
              "Address              0\n",
              "State                0\n",
              "County               0\n",
              "City                 0\n",
              "Date Local           0\n",
              "NO2 Units            0\n",
              "NO2 Mean             0\n",
              "NO2 1st Max Value    0\n",
              "NO2 1st Max Hour     0\n",
              "NO2 AQI              0\n",
              "O3 Units             0\n",
              "O3 Mean              0\n",
              "O3 1st Max Value     0\n",
              "O3 1st Max Hour      0\n",
              "O3 AQI               0\n",
              "SO2 Units            0\n",
              "SO2 Mean             0\n",
              "SO2 1st Max Value    0\n",
              "SO2 1st Max Hour     0\n",
              "SO2 AQI              0\n",
              "CO Units             0\n",
              "CO Mean              0\n",
              "CO 1st Max Value     0\n",
              "CO 1st Max Hour      0\n",
              "CO AQI               0\n",
              "dtype: int64"
            ]
          },
          "metadata": {},
          "execution_count": 8
        }
      ]
    },
    {
      "cell_type": "code",
      "source": [
        "data.duplicated().sum()"
      ],
      "metadata": {
        "colab": {
          "base_uri": "https://localhost:8080/"
        },
        "id": "EZ04osH4a6Td",
        "outputId": "2a26bd82-2596-4c23-efaa-1efe077bbd21"
      },
      "execution_count": null,
      "outputs": [
        {
          "output_type": "execute_result",
          "data": {
            "text/plain": [
              "0"
            ]
          },
          "metadata": {},
          "execution_count": 9
        }
      ]
    },
    {
      "cell_type": "code",
      "source": [
        "data.columns"
      ],
      "metadata": {
        "colab": {
          "base_uri": "https://localhost:8080/"
        },
        "id": "FYWAd491a89Z",
        "outputId": "659bce85-23f8-49e6-b17a-84ba6c94e75b"
      },
      "execution_count": null,
      "outputs": [
        {
          "output_type": "execute_result",
          "data": {
            "text/plain": [
              "Index(['Unnamed: 0', 'State Code', 'County Code', 'Site Num', 'Address',\n",
              "       'State', 'County', 'City', 'Date Local', 'NO2 Units', 'NO2 Mean',\n",
              "       'NO2 1st Max Value', 'NO2 1st Max Hour', 'NO2 AQI', 'O3 Units',\n",
              "       'O3 Mean', 'O3 1st Max Value', 'O3 1st Max Hour', 'O3 AQI', 'SO2 Units',\n",
              "       'SO2 Mean', 'SO2 1st Max Value', 'SO2 1st Max Hour', 'SO2 AQI',\n",
              "       'CO Units', 'CO Mean', 'CO 1st Max Value', 'CO 1st Max Hour', 'CO AQI'],\n",
              "      dtype='object')"
            ]
          },
          "metadata": {},
          "execution_count": 10
        }
      ]
    },
    {
      "cell_type": "markdown",
      "source": [
        "##1)  Kako se kvaliteta zraka mijenja tokom različitih godišnjih doba?"
      ],
      "metadata": {
        "id": "_pJnAIdpPsmP"
      }
    },
    {
      "cell_type": "code",
      "source": [
        "data['Date Local'] = pd.to_datetime(data['Date Local'])\n",
        "\n",
        "data['Month'] = data['Date Local'].dt.month\n",
        "\n",
        "def get_season(month):\n",
        "    if 3 <= month <= 5:\n",
        "        return 'Spring'\n",
        "    elif 6 <= month <= 8:\n",
        "        return 'Summer'\n",
        "    elif 9 <= month <= 11:\n",
        "        return 'Fall'\n",
        "    else:\n",
        "        return 'Winter'\n",
        "\n",
        "data['Season'] = data['Month'].apply(get_season)\n",
        "\n",
        "seasonal_data = data.groupby('Season')\n",
        "\n",
        "mean_values = seasonal_data[['NO2 AQI', 'O3 AQI', 'SO2 AQI', 'CO AQI']].mean()\n",
        "\n",
        "print(mean_values)\n"
      ],
      "metadata": {
        "colab": {
          "base_uri": "https://localhost:8080/"
        },
        "id": "qKdTW4tPbuuQ",
        "outputId": "e5bd101d-c59b-4f5b-e555-2cee389a7eb7"
      },
      "execution_count": null,
      "outputs": [
        {
          "output_type": "stream",
          "name": "stdout",
          "text": [
            "          NO2 AQI     O3 AQI   SO2 AQI    CO AQI\n",
            "Season                                          \n",
            "Fall    25.240145  31.924001  6.996744  6.617256\n",
            "Spring  23.548049  39.696245  6.866806  5.094959\n",
            "Summer  19.932169  45.643589  7.729343  4.231257\n",
            "Winter  27.854325  24.069678  6.781631  8.641348\n"
          ]
        }
      ]
    },
    {
      "cell_type": "markdown",
      "source": [
        "Na temelju analize srednjih vrijednosti AQI (indeksa kvalitete zraka) za različite godišnje doba, mogli bismo izvući nekoliko zaključaka:\n",
        "\n",
        "NO2 AQI:\n",
        "\n",
        "Najviše srednje vrijednosti AQI za NO2 zabilježene su tijekom zime, dok su najniže tijekom ljeta. To može ukazivati na povećanje emisija NO2 tijekom zimskih mjeseci, možda zbog povećane potrošnje energije za grijanje.\n",
        "O3 AQI:\n",
        "\n",
        "Najviše srednje vrijednosti AQI za O3 zabilježene su tijekom ljeta, što je uobičajeno jer se ozon često formira pod utjecajem sunčeve svjetlosti. Najniže vrijednosti zabilježene su tijekom zime.\n",
        "SO2 AQI:\n",
        "\n",
        "Srednje vrijednosti AQI za SO2 su relativno niske tijekom svih godišnjih doba. Ovo može ukazivati na to da emisije sumporovog dioksida nisu uvelike promijenjene tijekom godišnjih doba ili su sveukupno niske.\n",
        "CO AQI:\n",
        "\n",
        "Najviše srednje vrijednosti AQI za CO zabilježene su tijekom zime. To može ukazivati na povećanje emisija ugljikovog monoksida iz različitih izvora tijekom hladnih mjeseci, kao što su grijanje i promet.\n",
        "Ovi zaključci pružaju preliminarni uvid u sezonske varijacije kvalitete zraka na temelju AQI vrijednosti. Važno je napomenuti da je potrebno dodatno istraživanje i analiza kako bi se dobila dublja razumijevanja i potvrde zaključaka. Također, različite lokacije mogu imati različite obrasce, stoga je važno razmotriti i lokalne specifičnosti."
      ],
      "metadata": {
        "id": "Wdq72XLtcYsr"
      }
    },
    {
      "cell_type": "markdown",
      "source": [
        "##2)  Koji gradovi ili države imaju najviše koncentracije ozona u zraku, i postoje li određeni uzorci u navedenim podacima?"
      ],
      "metadata": {
        "id": "jc7WOanmP1HZ"
      }
    },
    {
      "cell_type": "code",
      "source": [
        "ozone_mean_by_location = data.groupby(['State', 'County', 'City'])['O3 Mean'].mean().reset_index()\n",
        "\n",
        "sorted_ozone_data = ozone_mean_by_location.sort_values(by='O3 Mean', ascending=False)\n",
        "\n",
        "top_locations = sorted_ozone_data.head(10)\n",
        "\n",
        "print(top_locations)\n"
      ],
      "metadata": {
        "colab": {
          "base_uri": "https://localhost:8080/"
        },
        "id": "6Xm8VmiocaSN",
        "outputId": "63463de9-8d9e-47b9-c187-236d637015b0"
      },
      "execution_count": null,
      "outputs": [
        {
          "output_type": "stream",
          "name": "stdout",
          "text": [
            "          State         County                       City   O3 Mean\n",
            "159        Utah       Duchesne                  Roosevelt  0.046820\n",
            "161        Utah         Uintah              Not in a city  0.045639\n",
            "176     Wyoming          Uinta              Not in a city  0.040139\n",
            "33   California  Santa Barbara                    Capitan  0.040134\n",
            "174     Wyoming        Laramie              Not in a city  0.039752\n",
            "96       Nevada          Clark               Boulder City  0.039687\n",
            "148   Tennessee         Blount              Not in a city  0.039609\n",
            "118    Oklahoma            Kay                 Ponca City  0.037264\n",
            "46     Colorado        Jackson              Not in a city  0.036717\n",
            "36   California  Santa Barbara  Vandenberg Air Force Base  0.036411\n"
          ]
        }
      ]
    },
    {
      "cell_type": "markdown",
      "source": [
        "Na temelju pruženih podataka možemo izvesti nekoliko zaključaka:\n",
        "\n",
        "Lokacije s najvišim srednjim vrijednostima ozona:\n",
        "\n",
        "Grad Roosevelt u saveznoj državi Utah ima najvišu srednju vrijednost ozona (O3 Mean) od 0.046820.\n",
        "Uintah u Utahu i Uinta u Wyomingu također su među lokacijama s visokim srednjim vrijednostima ozona.\n",
        "Najniže srednje vrijednosti ozona:\n",
        "\n",
        "Vandenberg Air Force Base u Santa Barbari, Kalifornija, ima jednu od najnižih srednjih vrijednosti ozona (O3 Mean) među navedenim lokacijama.\n",
        "Lokacije bez određenog grada:\n",
        "\n",
        "Primjetno je da neki podaci sadrže informaciju \"Not in a city\" ili slične, što ukazuje na lokacije koje možda nisu povezane s određenim gradom.\n",
        "Raznolikost lokacija:\n",
        "\n",
        "Lokacije dolaze iz različitih država kao što su Utah, Wyoming, California, Nevada, Tennessee, Oklahoma i Colorado, pokazujući raznolikost područja koja su analizirana.\n",
        "Važno je napomenuti da je ovaj zaključak temeljen samo na srednjim vrijednostima ozona. Dodatna analiza, uključujući varijacije tijekom vremena ili analizu drugih parametara, može pružiti dublje razumijevanje kvalitete zraka na ovim lokacijama. Također, potrebno je uzeti u obzir moguće lokalne čimbenike koji utječu na koncentracije ozona."
      ],
      "metadata": {
        "id": "azEEJmUtdKHY"
      }
    },
    {
      "cell_type": "markdown",
      "source": [
        "##3)  Postoji li povezanost između industrijskih područja i razina dušikovih oksida (NOx) u zraku?"
      ],
      "metadata": {
        "id": "RhLac887P7Os"
      }
    },
    {
      "cell_type": "code",
      "source": [
        "import pandas as pd\n",
        "import plotly.express as px\n",
        "\n",
        "no2_data = data[['City', 'NO2 Mean']]\n",
        "\n",
        "average_no2_by_city = no2_data.groupby('City')['NO2 Mean'].mean().reset_index()\n",
        "\n",
        "sorted_no2_data = average_no2_by_city.sort_values(by='NO2 Mean', ascending=False)\n",
        "\n",
        "print(sorted_no2_data.head(10))\n",
        "\n",
        "\n",
        "fig = px.bar(sorted_no2_data.head(10), x='City', y='NO2 Mean',\n",
        "             labels={'NO2 Mean': 'Srednje vrijednosti NO2'},\n",
        "             title='Srednje vrijednosti NO2 po gradu')\n",
        "\n",
        "fig.update_layout(xaxis_title='Gradovi', yaxis_title='Srednje vrijednosti NO2')\n",
        "\n",
        "fig.show()\n"
      ],
      "metadata": {
        "colab": {
          "base_uri": "https://localhost:8080/"
        },
        "id": "f7C_EsYudL2W",
        "outputId": "3014e2a0-2d2d-4d6f-bae9-68f50c5ce7b2"
      },
      "execution_count": null,
      "outputs": [
        {
          "output_type": "stream",
          "name": "stdout",
          "text": [
            "                 City   NO2 Mean\n",
            "29            Chicago  31.505439\n",
            "21            Burbank  30.431629\n",
            "8         Bakersfield  29.022370\n",
            "43             Denver  25.521145\n",
            "65          Hawthorne  24.979674\n",
            "137  West Los Angeles  23.880264\n",
            "77         Long Beach  23.110704\n",
            "78        Los Angeles  22.866184\n",
            "118        Scottsdale  22.609665\n",
            "87           New York  22.563689\n"
          ]
        },
        {
          "output_type": "display_data",
          "data": {
            "text/html": [
              "<html>\n",
              "<head><meta charset=\"utf-8\" /></head>\n",
              "<body>\n",
              "    <div>            <script src=\"https://cdnjs.cloudflare.com/ajax/libs/mathjax/2.7.5/MathJax.js?config=TeX-AMS-MML_SVG\"></script><script type=\"text/javascript\">if (window.MathJax && window.MathJax.Hub && window.MathJax.Hub.Config) {window.MathJax.Hub.Config({SVG: {font: \"STIX-Web\"}});}</script>                <script type=\"text/javascript\">window.PlotlyConfig = {MathJaxConfig: 'local'};</script>\n",
              "        <script charset=\"utf-8\" src=\"https://cdn.plot.ly/plotly-2.24.1.min.js\"></script>                <div id=\"c74874c4-8445-463f-8628-739bc6cf0927\" class=\"plotly-graph-div\" style=\"height:525px; width:100%;\"></div>            <script type=\"text/javascript\">                                    window.PLOTLYENV=window.PLOTLYENV || {};                                    if (document.getElementById(\"c74874c4-8445-463f-8628-739bc6cf0927\")) {                    Plotly.newPlot(                        \"c74874c4-8445-463f-8628-739bc6cf0927\",                        [{\"alignmentgroup\":\"True\",\"hovertemplate\":\"City=%{x}\\u003cbr\\u003eSrednje vrijednosti NO2=%{y}\\u003cextra\\u003e\\u003c\\u002fextra\\u003e\",\"legendgroup\":\"\",\"marker\":{\"color\":\"#636efa\",\"pattern\":{\"shape\":\"\"}},\"name\":\"\",\"offsetgroup\":\"\",\"orientation\":\"v\",\"showlegend\":false,\"textposition\":\"auto\",\"x\":[\"Chicago\",\"Burbank\",\"Bakersfield\",\"Denver\",\"Hawthorne\",\"West Los Angeles\",\"Long Beach\",\"Los Angeles\",\"Scottsdale\",\"New York\"],\"xaxis\":\"x\",\"y\":[31.505439017667847,30.43162875849694,29.022370055555555,25.521145424344887,24.979673531746034,23.880263555160145,23.110704488449898,22.866183829401773,22.609665096507353,22.5636892765032],\"yaxis\":\"y\",\"type\":\"bar\"}],                        {\"template\":{\"data\":{\"histogram2dcontour\":[{\"type\":\"histogram2dcontour\",\"colorbar\":{\"outlinewidth\":0,\"ticks\":\"\"},\"colorscale\":[[0.0,\"#0d0887\"],[0.1111111111111111,\"#46039f\"],[0.2222222222222222,\"#7201a8\"],[0.3333333333333333,\"#9c179e\"],[0.4444444444444444,\"#bd3786\"],[0.5555555555555556,\"#d8576b\"],[0.6666666666666666,\"#ed7953\"],[0.7777777777777778,\"#fb9f3a\"],[0.8888888888888888,\"#fdca26\"],[1.0,\"#f0f921\"]]}],\"choropleth\":[{\"type\":\"choropleth\",\"colorbar\":{\"outlinewidth\":0,\"ticks\":\"\"}}],\"histogram2d\":[{\"type\":\"histogram2d\",\"colorbar\":{\"outlinewidth\":0,\"ticks\":\"\"},\"colorscale\":[[0.0,\"#0d0887\"],[0.1111111111111111,\"#46039f\"],[0.2222222222222222,\"#7201a8\"],[0.3333333333333333,\"#9c179e\"],[0.4444444444444444,\"#bd3786\"],[0.5555555555555556,\"#d8576b\"],[0.6666666666666666,\"#ed7953\"],[0.7777777777777778,\"#fb9f3a\"],[0.8888888888888888,\"#fdca26\"],[1.0,\"#f0f921\"]]}],\"heatmap\":[{\"type\":\"heatmap\",\"colorbar\":{\"outlinewidth\":0,\"ticks\":\"\"},\"colorscale\":[[0.0,\"#0d0887\"],[0.1111111111111111,\"#46039f\"],[0.2222222222222222,\"#7201a8\"],[0.3333333333333333,\"#9c179e\"],[0.4444444444444444,\"#bd3786\"],[0.5555555555555556,\"#d8576b\"],[0.6666666666666666,\"#ed7953\"],[0.7777777777777778,\"#fb9f3a\"],[0.8888888888888888,\"#fdca26\"],[1.0,\"#f0f921\"]]}],\"heatmapgl\":[{\"type\":\"heatmapgl\",\"colorbar\":{\"outlinewidth\":0,\"ticks\":\"\"},\"colorscale\":[[0.0,\"#0d0887\"],[0.1111111111111111,\"#46039f\"],[0.2222222222222222,\"#7201a8\"],[0.3333333333333333,\"#9c179e\"],[0.4444444444444444,\"#bd3786\"],[0.5555555555555556,\"#d8576b\"],[0.6666666666666666,\"#ed7953\"],[0.7777777777777778,\"#fb9f3a\"],[0.8888888888888888,\"#fdca26\"],[1.0,\"#f0f921\"]]}],\"contourcarpet\":[{\"type\":\"contourcarpet\",\"colorbar\":{\"outlinewidth\":0,\"ticks\":\"\"}}],\"contour\":[{\"type\":\"contour\",\"colorbar\":{\"outlinewidth\":0,\"ticks\":\"\"},\"colorscale\":[[0.0,\"#0d0887\"],[0.1111111111111111,\"#46039f\"],[0.2222222222222222,\"#7201a8\"],[0.3333333333333333,\"#9c179e\"],[0.4444444444444444,\"#bd3786\"],[0.5555555555555556,\"#d8576b\"],[0.6666666666666666,\"#ed7953\"],[0.7777777777777778,\"#fb9f3a\"],[0.8888888888888888,\"#fdca26\"],[1.0,\"#f0f921\"]]}],\"surface\":[{\"type\":\"surface\",\"colorbar\":{\"outlinewidth\":0,\"ticks\":\"\"},\"colorscale\":[[0.0,\"#0d0887\"],[0.1111111111111111,\"#46039f\"],[0.2222222222222222,\"#7201a8\"],[0.3333333333333333,\"#9c179e\"],[0.4444444444444444,\"#bd3786\"],[0.5555555555555556,\"#d8576b\"],[0.6666666666666666,\"#ed7953\"],[0.7777777777777778,\"#fb9f3a\"],[0.8888888888888888,\"#fdca26\"],[1.0,\"#f0f921\"]]}],\"mesh3d\":[{\"type\":\"mesh3d\",\"colorbar\":{\"outlinewidth\":0,\"ticks\":\"\"}}],\"scatter\":[{\"fillpattern\":{\"fillmode\":\"overlay\",\"size\":10,\"solidity\":0.2},\"type\":\"scatter\"}],\"parcoords\":[{\"type\":\"parcoords\",\"line\":{\"colorbar\":{\"outlinewidth\":0,\"ticks\":\"\"}}}],\"scatterpolargl\":[{\"type\":\"scatterpolargl\",\"marker\":{\"colorbar\":{\"outlinewidth\":0,\"ticks\":\"\"}}}],\"bar\":[{\"error_x\":{\"color\":\"#2a3f5f\"},\"error_y\":{\"color\":\"#2a3f5f\"},\"marker\":{\"line\":{\"color\":\"#E5ECF6\",\"width\":0.5},\"pattern\":{\"fillmode\":\"overlay\",\"size\":10,\"solidity\":0.2}},\"type\":\"bar\"}],\"scattergeo\":[{\"type\":\"scattergeo\",\"marker\":{\"colorbar\":{\"outlinewidth\":0,\"ticks\":\"\"}}}],\"scatterpolar\":[{\"type\":\"scatterpolar\",\"marker\":{\"colorbar\":{\"outlinewidth\":0,\"ticks\":\"\"}}}],\"histogram\":[{\"marker\":{\"pattern\":{\"fillmode\":\"overlay\",\"size\":10,\"solidity\":0.2}},\"type\":\"histogram\"}],\"scattergl\":[{\"type\":\"scattergl\",\"marker\":{\"colorbar\":{\"outlinewidth\":0,\"ticks\":\"\"}}}],\"scatter3d\":[{\"type\":\"scatter3d\",\"line\":{\"colorbar\":{\"outlinewidth\":0,\"ticks\":\"\"}},\"marker\":{\"colorbar\":{\"outlinewidth\":0,\"ticks\":\"\"}}}],\"scattermapbox\":[{\"type\":\"scattermapbox\",\"marker\":{\"colorbar\":{\"outlinewidth\":0,\"ticks\":\"\"}}}],\"scatterternary\":[{\"type\":\"scatterternary\",\"marker\":{\"colorbar\":{\"outlinewidth\":0,\"ticks\":\"\"}}}],\"scattercarpet\":[{\"type\":\"scattercarpet\",\"marker\":{\"colorbar\":{\"outlinewidth\":0,\"ticks\":\"\"}}}],\"carpet\":[{\"aaxis\":{\"endlinecolor\":\"#2a3f5f\",\"gridcolor\":\"white\",\"linecolor\":\"white\",\"minorgridcolor\":\"white\",\"startlinecolor\":\"#2a3f5f\"},\"baxis\":{\"endlinecolor\":\"#2a3f5f\",\"gridcolor\":\"white\",\"linecolor\":\"white\",\"minorgridcolor\":\"white\",\"startlinecolor\":\"#2a3f5f\"},\"type\":\"carpet\"}],\"table\":[{\"cells\":{\"fill\":{\"color\":\"#EBF0F8\"},\"line\":{\"color\":\"white\"}},\"header\":{\"fill\":{\"color\":\"#C8D4E3\"},\"line\":{\"color\":\"white\"}},\"type\":\"table\"}],\"barpolar\":[{\"marker\":{\"line\":{\"color\":\"#E5ECF6\",\"width\":0.5},\"pattern\":{\"fillmode\":\"overlay\",\"size\":10,\"solidity\":0.2}},\"type\":\"barpolar\"}],\"pie\":[{\"automargin\":true,\"type\":\"pie\"}]},\"layout\":{\"autotypenumbers\":\"strict\",\"colorway\":[\"#636efa\",\"#EF553B\",\"#00cc96\",\"#ab63fa\",\"#FFA15A\",\"#19d3f3\",\"#FF6692\",\"#B6E880\",\"#FF97FF\",\"#FECB52\"],\"font\":{\"color\":\"#2a3f5f\"},\"hovermode\":\"closest\",\"hoverlabel\":{\"align\":\"left\"},\"paper_bgcolor\":\"white\",\"plot_bgcolor\":\"#E5ECF6\",\"polar\":{\"bgcolor\":\"#E5ECF6\",\"angularaxis\":{\"gridcolor\":\"white\",\"linecolor\":\"white\",\"ticks\":\"\"},\"radialaxis\":{\"gridcolor\":\"white\",\"linecolor\":\"white\",\"ticks\":\"\"}},\"ternary\":{\"bgcolor\":\"#E5ECF6\",\"aaxis\":{\"gridcolor\":\"white\",\"linecolor\":\"white\",\"ticks\":\"\"},\"baxis\":{\"gridcolor\":\"white\",\"linecolor\":\"white\",\"ticks\":\"\"},\"caxis\":{\"gridcolor\":\"white\",\"linecolor\":\"white\",\"ticks\":\"\"}},\"coloraxis\":{\"colorbar\":{\"outlinewidth\":0,\"ticks\":\"\"}},\"colorscale\":{\"sequential\":[[0.0,\"#0d0887\"],[0.1111111111111111,\"#46039f\"],[0.2222222222222222,\"#7201a8\"],[0.3333333333333333,\"#9c179e\"],[0.4444444444444444,\"#bd3786\"],[0.5555555555555556,\"#d8576b\"],[0.6666666666666666,\"#ed7953\"],[0.7777777777777778,\"#fb9f3a\"],[0.8888888888888888,\"#fdca26\"],[1.0,\"#f0f921\"]],\"sequentialminus\":[[0.0,\"#0d0887\"],[0.1111111111111111,\"#46039f\"],[0.2222222222222222,\"#7201a8\"],[0.3333333333333333,\"#9c179e\"],[0.4444444444444444,\"#bd3786\"],[0.5555555555555556,\"#d8576b\"],[0.6666666666666666,\"#ed7953\"],[0.7777777777777778,\"#fb9f3a\"],[0.8888888888888888,\"#fdca26\"],[1.0,\"#f0f921\"]],\"diverging\":[[0,\"#8e0152\"],[0.1,\"#c51b7d\"],[0.2,\"#de77ae\"],[0.3,\"#f1b6da\"],[0.4,\"#fde0ef\"],[0.5,\"#f7f7f7\"],[0.6,\"#e6f5d0\"],[0.7,\"#b8e186\"],[0.8,\"#7fbc41\"],[0.9,\"#4d9221\"],[1,\"#276419\"]]},\"xaxis\":{\"gridcolor\":\"white\",\"linecolor\":\"white\",\"ticks\":\"\",\"title\":{\"standoff\":15},\"zerolinecolor\":\"white\",\"automargin\":true,\"zerolinewidth\":2},\"yaxis\":{\"gridcolor\":\"white\",\"linecolor\":\"white\",\"ticks\":\"\",\"title\":{\"standoff\":15},\"zerolinecolor\":\"white\",\"automargin\":true,\"zerolinewidth\":2},\"scene\":{\"xaxis\":{\"backgroundcolor\":\"#E5ECF6\",\"gridcolor\":\"white\",\"linecolor\":\"white\",\"showbackground\":true,\"ticks\":\"\",\"zerolinecolor\":\"white\",\"gridwidth\":2},\"yaxis\":{\"backgroundcolor\":\"#E5ECF6\",\"gridcolor\":\"white\",\"linecolor\":\"white\",\"showbackground\":true,\"ticks\":\"\",\"zerolinecolor\":\"white\",\"gridwidth\":2},\"zaxis\":{\"backgroundcolor\":\"#E5ECF6\",\"gridcolor\":\"white\",\"linecolor\":\"white\",\"showbackground\":true,\"ticks\":\"\",\"zerolinecolor\":\"white\",\"gridwidth\":2}},\"shapedefaults\":{\"line\":{\"color\":\"#2a3f5f\"}},\"annotationdefaults\":{\"arrowcolor\":\"#2a3f5f\",\"arrowhead\":0,\"arrowwidth\":1},\"geo\":{\"bgcolor\":\"white\",\"landcolor\":\"#E5ECF6\",\"subunitcolor\":\"white\",\"showland\":true,\"showlakes\":true,\"lakecolor\":\"white\"},\"title\":{\"x\":0.05},\"mapbox\":{\"style\":\"light\"}}},\"xaxis\":{\"anchor\":\"y\",\"domain\":[0.0,1.0],\"title\":{\"text\":\"Gradovi\"}},\"yaxis\":{\"anchor\":\"x\",\"domain\":[0.0,1.0],\"title\":{\"text\":\"Srednje vrijednosti NO2\"}},\"legend\":{\"tracegroupgap\":0},\"title\":{\"text\":\"Srednje vrijednosti NO2 po gradu\"},\"barmode\":\"relative\"},                        {\"responsive\": true}                    ).then(function(){\n",
              "                            \n",
              "var gd = document.getElementById('c74874c4-8445-463f-8628-739bc6cf0927');\n",
              "var x = new MutationObserver(function (mutations, observer) {{\n",
              "        var display = window.getComputedStyle(gd).display;\n",
              "        if (!display || display === 'none') {{\n",
              "            console.log([gd, 'removed!']);\n",
              "            Plotly.purge(gd);\n",
              "            observer.disconnect();\n",
              "        }}\n",
              "}});\n",
              "\n",
              "// Listen for the removal of the full notebook cells\n",
              "var notebookContainer = gd.closest('#notebook-container');\n",
              "if (notebookContainer) {{\n",
              "    x.observe(notebookContainer, {childList: true});\n",
              "}}\n",
              "\n",
              "// Listen for the clearing of the current output cell\n",
              "var outputEl = gd.closest('.output');\n",
              "if (outputEl) {{\n",
              "    x.observe(outputEl, {childList: true});\n",
              "}}\n",
              "\n",
              "                        })                };                            </script>        </div>\n",
              "</body>\n",
              "</html>"
            ]
          },
          "metadata": {}
        }
      ]
    },
    {
      "cell_type": "markdown",
      "source": [
        "Na temelju rezultata s najvišim srednjim vrijednostima dušikovih oksida (NO2 Mean) u određenim gradovima, možemo izvesti nekoliko zaključaka:\n",
        "\n",
        "Gradovi s najvišim srednjim vrijednostima NO2:\n",
        "\n",
        "Chicago ima najvišu srednju vrijednost dušikovih oksida (NO2 Mean) od 31.51, što ukazuje na visoku koncentraciju NO2 u zraku.\n",
        "Ostali gradovi s visokim srednjim vrijednostima NO2 uključuju Burbank, Bakersfield, Denver i Hawthorne.\n",
        "Mogući uzroci visokih vrijednosti NO2:\n",
        "\n",
        "Visoke koncentracije NO2 često su povezane s industrijskim aktivnostima, prometom i drugim izvorima zagađenja zraka.\n",
        "Gradovi s intenzivnom industrijskom aktivnošću, gusto prometnim mrežama ili drugim izvorima zagađenja mogu pokazivati visoke razine NO2.\n",
        "Potreba za dodatnim istraživanjem:\n",
        "\n",
        "Visoke razine NO2 mogu imati ozbiljne posljedice po zdravlje ljudi i okoliš.\n",
        "Potrebno je daljnje istraživanje kako bi se identificirali specifični uzroci visokih vrijednosti NO2 u svakom gradu, što uključuje analizu izvora zagađenja, prometnih obrazaca i industrijskih aktivnosti.\n",
        "Praćenje i smanjenje emisija:\n",
        "\n",
        "Gradovi s visokim vrijednostima trebali bi dodatno pratiti i smanjivati emisije dušikovih oksida kako bi poboljšali kvalitetu zraka i zaštitili zdravlje stanovništva.\n",
        "Važno je napomenuti da visoke razine NO2 mogu imati ozbiljne posljedice, uključujući probleme sa zdravljem dišnog sustava i okoliša. Lokalne vlasti i zajednice često poduzimaju mjere kako bi smanjile emisije i poboljšale kvalitetu zraka."
      ],
      "metadata": {
        "id": "Wqi1PmVfd8Fp"
      }
    },
    {
      "cell_type": "markdown",
      "source": [
        "##4) Kako se kvaliteta zraka razlikuje između država?"
      ],
      "metadata": {
        "id": "XoKJydV-QAMF"
      }
    },
    {
      "cell_type": "code",
      "source": [
        "air_quality_data = data[['State', 'NO2 Mean', 'O3 Mean', 'SO2 Mean', 'CO Mean']]\n",
        "\n",
        "average_air_quality_by_state = air_quality_data.groupby('State').mean().reset_index()\n",
        "\n",
        "print(average_air_quality_by_state)\n"
      ],
      "metadata": {
        "colab": {
          "base_uri": "https://localhost:8080/"
        },
        "id": "__dFuqehd9UN",
        "outputId": "bad1e828-ebf8-407b-b7c1-2b5016dd697e"
      },
      "execution_count": null,
      "outputs": [
        {
          "output_type": "stream",
          "name": "stdout",
          "text": [
            "                   State   NO2 Mean   O3 Mean  SO2 Mean   CO Mean\n",
            "0                Alabama   9.410896  0.024601  1.051202  0.212973\n",
            "1                 Alaska  11.332871  0.012790  6.101601  0.424387\n",
            "2                Arizona  19.066303  0.024991  1.373707  0.492256\n",
            "3               Arkansas   9.754085  0.026168  1.397471  0.423522\n",
            "4             California  13.654535  0.026053  1.155982  0.449641\n",
            "5               Colorado  19.635766  0.023550  1.508337  0.445569\n",
            "6            Connecticut   8.991660  0.028919  0.926693  0.251569\n",
            "7      Country Of Mexico  20.296369  0.021905  1.949474  0.856178\n",
            "8               Delaware  11.591813  0.026506  1.033663  0.261954\n",
            "9   District Of Columbia  17.685186  0.024188  4.227151  0.791535\n",
            "10               Florida   7.361649  0.026800  0.500828  0.426557\n",
            "11               Georgia  11.227470  0.020588  0.494373  0.321156\n",
            "12                Hawaii   3.162423  0.025147  0.999316  0.367278\n",
            "13                 Idaho   8.932213  0.027001  0.337252  0.180127\n",
            "14              Illinois  15.566840  0.022657  2.700515  0.394352\n",
            "15               Indiana  12.117072  0.029419  3.099869  0.358315\n",
            "16                  Iowa   6.788070  0.027864  0.413967  0.218407\n",
            "17                Kansas  11.088594  0.026002  2.381229  0.410451\n",
            "18              Kentucky  11.983817  0.029096  3.759421  0.165087\n",
            "19             Louisiana  13.756172  0.023353  2.354302  0.413524\n",
            "20                 Maine   5.137134  0.025041  0.947963  0.226094\n",
            "21              Maryland   9.976931  0.026587  1.677965  0.282743\n",
            "22         Massachusetts  18.646895  0.020667  2.576945  0.319554\n",
            "23              Michigan  16.818226  0.027338  3.132039  0.350807\n",
            "24             Minnesota   6.835440  0.026922  0.688396  0.245750\n",
            "25              Missouri  14.958263  0.027788  3.461487  0.469007\n",
            "26                Nevada  12.046286  0.032033  0.352389  0.221799\n",
            "27         New Hampshire   7.397317  0.027946  1.424841  0.345901\n",
            "28            New Jersey  18.596304  0.023566  3.130810  0.403735\n",
            "29            New Mexico  12.334884  0.031703  0.627760  0.211173\n",
            "30              New York  18.489442  0.023638  4.679582  0.358441\n",
            "31        North Carolina  10.553807  0.029191  1.478311  0.355666\n",
            "32          North Dakota   4.793360  0.025893  0.229954  0.169603\n",
            "33                  Ohio  12.113578  0.024691  2.735786  0.271291\n",
            "34              Oklahoma   6.758890  0.031374  0.730165  0.140652\n",
            "35                Oregon   9.649336  0.019264  0.990416  0.305899\n",
            "36          Pennsylvania  12.416034  0.026426  4.057368  0.242903\n",
            "37          Rhode Island   7.147757  0.030072  0.530564  0.225506\n",
            "38        South Carolina   1.939410  0.031676  0.834706  0.125366\n",
            "39          South Dakota   5.077920  0.030023  0.486860  0.184031\n",
            "40             Tennessee   1.697732  0.037796  0.830904  0.439324\n",
            "41                 Texas  11.591420  0.025765  0.996449  0.248725\n",
            "42                  Utah  13.184446  0.032074  0.414634  0.355123\n",
            "43              Virginia  10.535442  0.027899  3.000386  0.374470\n",
            "44            Washington  10.231211  0.020866  0.779516  0.206082\n",
            "45             Wisconsin  14.968732  0.022432  2.619945  0.350330\n",
            "46               Wyoming   3.292677  0.038065  0.349093  0.107623\n"
          ]
        }
      ]
    },
    {
      "cell_type": "markdown",
      "source": [
        "Na temelju pruženih podataka, možemo izvesti nekoliko zaključaka o razlikama u kvaliteti zraka među državama:\n",
        "\n",
        "Dušikovi oksidi (NO2 Mean):\n",
        "\n",
        "Florida, South Carolina, i Tennessee pokazuju relativno niske srednje vrijednosti dušikovih oksida (NO2 Mean), dok Wyoming, Texas i New Mexico imaju više srednje vrijednosti. Ovo sugerira varijacije u emisijama NO2 između država.\n",
        "Ozon (O3 Mean):\n",
        "\n",
        "South Carolina i Wyoming imaju niže srednje vrijednosti ozona (O3 Mean), dok Arizona i New Mexico imaju više srednje vrijednosti. Ovo može ukazivati na različite uvjete za formiranje ozona u različitim državama.\n",
        "Sumpor-dioksid (SO2 Mean):\n",
        "\n",
        "South Carolina ima nisku srednju vrijednost sumpor-dioksida (SO2 Mean), dok Pennsylvania i Maryland imaju više srednje vrijednosti. Ovo može odražavati razlike u emisijama SO2 i industrijskim aktivnostima.\n",
        "Ugljikov monoksid (CO Mean):\n",
        "\n",
        "South Carolina ima nisku srednju vrijednost ugljikova monoksida (CO Mean), dok New Mexico i Country Of Mexico imaju više srednje vrijednosti. Ovo može ukazivati na razlike u izvorima CO emisija, uključujući promet i industriju.\n",
        "Važno je naglasiti da su ovi zaključci temeljeni na srednjim vrijednostima podataka i da specifični uzroci mogu varirati među različitim područjima unutar svake države. Daljnje analize i proučavanje lokalnih faktora nužni su za potpuno razumijevanje varijacija u kvaliteti zraka među državama."
      ],
      "metadata": {
        "id": "xUIAxZaJehPt"
      }
    },
    {
      "cell_type": "markdown",
      "source": [
        "##5) Koje su glavne vrste zagađivača prisutne u zraku i kako su se njihove razine mijenjale tijekom vremena?"
      ],
      "metadata": {
        "id": "EsHdd1C0QCNz"
      }
    },
    {
      "cell_type": "code",
      "source": [
        "import matplotlib.pyplot as plt\n",
        "\n",
        "data['Date Local'] = pd.to_datetime(data['Date Local'])\n",
        "\n",
        "data.set_index('Date Local', inplace=True)\n",
        "\n",
        "monthly_avg = data.resample('M').mean()\n",
        "\n",
        "plt.figure(figsize=(12, 8))\n",
        "\n",
        "plt.subplot(2, 2, 1)\n",
        "plt.plot(monthly_avg['NO2 Mean'])\n",
        "plt.title('Dušikovi oksidi (NO2)')\n",
        "\n",
        "plt.subplot(2, 2, 2)\n",
        "plt.plot(monthly_avg['O3 Mean'])\n",
        "plt.title('Ozon (O3)')\n",
        "\n",
        "plt.subplot(2, 2, 3)\n",
        "plt.plot(monthly_avg['SO2 Mean'])\n",
        "plt.title('Sumpor-dioksid (SO2)')\n",
        "\n",
        "plt.subplot(2, 2, 4)\n",
        "plt.plot(monthly_avg['CO Mean'])\n",
        "plt.title('Ugljikov monoksid (CO)')\n",
        "\n",
        "plt.tight_layout()\n",
        "plt.show()\n"
      ],
      "metadata": {
        "colab": {
          "base_uri": "https://localhost:8080/"
        },
        "id": "lpUp3QWUegsx",
        "outputId": "65a9688e-6b57-4c87-edaa-cbd5c987d7aa"
      },
      "execution_count": null,
      "outputs": [
        {
          "output_type": "stream",
          "name": "stderr",
          "text": [
            "<ipython-input-15-a778c8d4bd82>:7: FutureWarning:\n",
            "\n",
            "The default value of numeric_only in DataFrameGroupBy.mean is deprecated. In a future version, numeric_only will default to False. Either specify numeric_only or select only columns which should be valid for the function.\n",
            "\n"
          ]
        },
        {
          "output_type": "display_data",
          "data": {
            "text/plain": [
              "<Figure size 1200x800 with 4 Axes>"
            ],
            "image/png": "[encoded data removed]"
          },
          "metadata": {}
        }
      ]
    },
    {
      "cell_type": "markdown",
      "source": [
        "##6) Postoji li korelacija između glavnih zagađivača?"
      ],
      "metadata": {
        "id": "OUPPVXJHQK2B"
      }
    },
    {
      "cell_type": "code",
      "source": [
        "import pandas as pd\n",
        "import seaborn as sns\n",
        "import matplotlib.pyplot as plt\n",
        "\n",
        "monthly_avg_reset = monthly_avg.reset_index()\n",
        "\n",
        "correlation_data = monthly_avg_reset[['NO2 Mean', 'O3 Mean', 'SO2 Mean', 'CO Mean']]\n",
        "\n",
        "correlation_matrix = correlation_data.corr()\n",
        "\n",
        "plt.figure(figsize=(10, 8))\n",
        "sns.heatmap(correlation_matrix, annot=True, cmap='coolwarm', fmt='.2f', linewidths=.5)\n",
        "plt.title('Matrica korelacije između zagađivača')\n",
        "plt.show()\n"
      ],
      "metadata": {
        "colab": {
          "base_uri": "https://localhost:8080/"
        },
        "id": "6vk5SKYBgEcH",
        "outputId": "cb15bb56-2e70-4a8a-937f-dd5681bed6c0"
      },
      "execution_count": null,
      "outputs": [
        {
          "output_type": "display_data",
          "data": {
            "text/plain": [
              "<Figure size 1000x800 with 2 Axes>"
            ],
            "image/png": "[encoded data removed]"
          },
          "metadata": {}
        }
      ]
    },
    {
      "cell_type": "markdown",
      "source": [
        "##7) Koje su preporuke za poboljšanje kvalitete zraka na temelju analize dostupnih podataka?"
      ],
      "metadata": {
        "id": "jqOW6fyEQRdP"
      }
    },
    {
      "cell_type": "markdown",
      "source": [
        "Na temelju analize podataka o kvaliteti zraka (dušikovi oksidi, ozon, sumpor-dioksid, ugljikov monoksid), moguće je dati nekoliko općih preporuka za poboljšanje kvalitete zraka. Ove preporuke se često temelje na smanjenju zagađivanja. Ove preporuke su općenite, a specifične mjere ovise o lokalnim uvjetima, izvorima zagađenja i drugim faktorima.\n",
        "\n",
        "Smanjenje prometnih zagađenja:\n",
        "\n",
        "Poticanje korištenja javnog prijevoza, bicikala i pješačenja.\n",
        "Promicanje električnih i vozila s niskom emisijom.\n",
        "Implementacija mjera za smanjenje prometnih gužvi i poboljšanje prometnog toka.\n",
        "Smanjenje industrijskih zagađenja:\n",
        "\n",
        "Postavljanje i provedba strožih standarda za emisiju industrijskih postrojenja.\n",
        "Poticanje korištenja čistih i obnovljivih izvora energije u industriji.\n",
        "Unapređenje tehnologija kontrole zagađenja.\n",
        "Promicanje energetske efikasnosti:\n",
        "\n",
        "Poticanje na energetsku učinkovitost u domaćinstvima i industriji.\n",
        "Subvencije ili poticaji za korištenje obnovljivih izvora energije.\n",
        "Kontrola kućanskih zagađenja:\n",
        "\n",
        "Edukacija o pravilnom održavanju grijanja i hlađenja u domaćinstvima.\n",
        "Promicanje korištenja uređaja s manjim zagađenjima (npr. visokoučinkoviti uređaji za grijanje).\n",
        "Urbanističko planiranje:\n",
        "\n",
        "Razvijanje zelenih urbanih prostora koji mogu djelovati kao filtri za zagađivače.\n",
        "Razmještaj industrijskih zona i prometnih infrastruktura kako bi se smanjila izloženost stanovništva zagađivačima.\n",
        "Praćenje i izvješćivanje:\n",
        "\n",
        "Postavljanje i poboljšanje sustava za praćenje kvalitete zraka.\n",
        "Redovito izvještavanje i transparentnost podataka o kvaliteti zraka kako bi se informirala javnost i potaknule mjere za poboljšanje.\n",
        "Važno je naglasiti da je svaka preporuka kontekstualna i treba se prilagoditi specifičnim uvjetima pojedinog područja. Također, suradnja između vlade, industrije, lokalne zajednice i javnosti ključna je za učinkovitu implementaciju mjera za poboljšanje kvalitete zraka"
      ],
      "metadata": {
        "id": "4cT6hzjVg-bm"
      }
    },
    {
      "cell_type": "markdown",
      "source": [
        "##Brisanje outliera"
      ],
      "metadata": {
        "id": "YRuDdRlCR5sq"
      }
    },
    {
      "cell_type": "code",
      "source": [
        "new_df=data"
      ],
      "metadata": {
        "id": "3j9koEaZR6N5"
      },
      "execution_count": null,
      "outputs": []
    },
    {
      "cell_type": "code",
      "source": [
        "def Outliers_Treatment(new_df,col):\n",
        "    q1=new_df[col].quantile(0.25)\n",
        "    q3=new_df[col].quantile(0.75)\n",
        "    iqr=q3-q1\n",
        "    print(col,iqr)\n",
        "    lb=q1-(1.5*iqr)\n",
        "    ub=q3+(1.5*iqr)\n",
        "    new_df.drop(new_df[(new_df[col]<lb) | (new_df[col]>ub)].index, inplace=True)"
      ],
      "metadata": {
        "id": "EhMgDZQmRxjp"
      },
      "execution_count": null,
      "outputs": []
    },
    {
      "cell_type": "code",
      "source": [
        "Outliers_Treatment(new_df,\"CO Mean\")\n",
        "Outliers_Treatment(new_df,\"NO2 Mean\")"
      ],
      "metadata": {
        "colab": {
          "base_uri": "https://localhost:8080/"
        },
        "id": "wptRmBZIRyqe",
        "outputId": "2c813351-c6c5-4579-c09c-3b22e6a30e2c"
      },
      "execution_count": null,
      "outputs": [
        {
          "output_type": "stream",
          "name": "stdout",
          "text": [
            "CO Mean 0.1625\n",
            "NO2 Mean 6.484166500000001\n"
          ]
        }
      ]
    },
    {
      "cell_type": "markdown",
      "source": [
        "##Linearna regresija i random forest algoritmi s outlierima"
      ],
      "metadata": {
        "id": "dgBxoDRrSszO"
      }
    },
    {
      "cell_type": "markdown",
      "source": [
        "Podjela podataka na skupove za treniranje i testiranje."
      ],
      "metadata": {
        "id": "MmKa840vS-mb"
      }
    },
    {
      "cell_type": "code",
      "source": [
        "from sklearn.model_selection import train_test_split\n",
        "\n",
        "X = data[['CO Mean']]\n",
        "y = data['NO2 Mean']\n",
        "\n",
        "X_train, X_test, y_train, y_test = train_test_split(X, y, test_size=0.2, random_state=42)"
      ],
      "metadata": {
        "id": "xpQZZwoYS_fT"
      },
      "execution_count": null,
      "outputs": []
    },
    {
      "cell_type": "markdown",
      "source": [
        "###Linearna regresija"
      ],
      "metadata": {
        "id": "KGPXszA-RZos"
      }
    },
    {
      "cell_type": "code",
      "source": [
        "from sklearn.linear_model import LinearRegression\n",
        "\n",
        "model = LinearRegression()\n",
        "model.fit(X_train, y_train)\n"
      ],
      "metadata": {
        "colab": {
          "base_uri": "https://localhost:8080/",
          "height": 74
        },
        "id": "-vzb51D8IPWy",
        "outputId": "9fbc7c11-5428-425c-f5e0-1b8ef653df86"
      },
      "execution_count": null,
      "outputs": [
        {
          "output_type": "execute_result",
          "data": {
            "text/plain": [
              "LinearRegression()"
            ],
            "text/html": [
              "<style>#sk-container-id-1 {color: black;background-color: white;}#sk-container-id-1 pre{padding: 0;}#sk-container-id-1 div.sk-toggleable {background-color: white;}#sk-container-id-1 label.sk-toggleable__label {cursor: pointer;display: block;width: 100%;margin-bottom: 0;padding: 0.3em;box-sizing: border-box;text-align: center;}#sk-container-id-1 label.sk-toggleable__label-arrow:before {content: \"▸\";float: left;margin-right: 0.25em;color: #696969;}#sk-container-id-1 label.sk-toggleable__label-arrow:hover:before {color: black;}#sk-container-id-1 div.sk-estimator:hover label.sk-toggleable__label-arrow:before {color: black;}#sk-container-id-1 div.sk-toggleable__content {max-height: 0;max-width: 0;overflow: hidden;text-align: left;background-color: #f0f8ff;}#sk-container-id-1 div.sk-toggleable__content pre {margin: 0.2em;color: black;border-radius: 0.25em;background-color: #f0f8ff;}#sk-container-id-1 input.sk-toggleable__control:checked~div.sk-toggleable__content {max-height: 200px;max-width: 100%;overflow: auto;}#sk-container-id-1 input.sk-toggleable__control:checked~label.sk-toggleable__label-arrow:before {content: \"▾\";}#sk-container-id-1 div.sk-estimator input.sk-toggleable__control:checked~label.sk-toggleable__label {background-color: #d4ebff;}#sk-container-id-1 div.sk-label input.sk-toggleable__control:checked~label.sk-toggleable__label {background-color: #d4ebff;}#sk-container-id-1 input.sk-hidden--visually {border: 0;clip: rect(1px 1px 1px 1px);clip: rect(1px, 1px, 1px, 1px);height: 1px;margin: -1px;overflow: hidden;padding: 0;position: absolute;width: 1px;}#sk-container-id-1 div.sk-estimator {font-family: monospace;background-color: #f0f8ff;border: 1px dotted black;border-radius: 0.25em;box-sizing: border-box;margin-bottom: 0.5em;}#sk-container-id-1 div.sk-estimator:hover {background-color: #d4ebff;}#sk-container-id-1 div.sk-parallel-item::after {content: \"\";width: 100%;border-bottom: 1px solid gray;flex-grow: 1;}#sk-container-id-1 div.sk-label:hover label.sk-toggleable__label {background-color: #d4ebff;}#sk-container-id-1 div.sk-serial::before {content: \"\";position: absolute;border-left: 1px solid gray;box-sizing: border-box;top: 0;bottom: 0;left: 50%;z-index: 0;}#sk-container-id-1 div.sk-serial {display: flex;flex-direction: column;align-items: center;background-color: white;padding-right: 0.2em;padding-left: 0.2em;position: relative;}#sk-container-id-1 div.sk-item {position: relative;z-index: 1;}#sk-container-id-1 div.sk-parallel {display: flex;align-items: stretch;justify-content: center;background-color: white;position: relative;}#sk-container-id-1 div.sk-item::before, #sk-container-id-1 div.sk-parallel-item::before {content: \"\";position: absolute;border-left: 1px solid gray;box-sizing: border-box;top: 0;bottom: 0;left: 50%;z-index: -1;}#sk-container-id-1 div.sk-parallel-item {display: flex;flex-direction: column;z-index: 1;position: relative;background-color: white;}#sk-container-id-1 div.sk-parallel-item:first-child::after {align-self: flex-end;width: 50%;}#sk-container-id-1 div.sk-parallel-item:last-child::after {align-self: flex-start;width: 50%;}#sk-container-id-1 div.sk-parallel-item:only-child::after {width: 0;}#sk-container-id-1 div.sk-dashed-wrapped {border: 1px dashed gray;margin: 0 0.4em 0.5em 0.4em;box-sizing: border-box;padding-bottom: 0.4em;background-color: white;}#sk-container-id-1 div.sk-label label {font-family: monospace;font-weight: bold;display: inline-block;line-height: 1.2em;}#sk-container-id-1 div.sk-label-container {text-align: center;}#sk-container-id-1 div.sk-container {/* jupyter's `normalize.less` sets `[hidden] { display: none; }` but bootstrap.min.css set `[hidden] { display: none !important; }` so we also need the `!important` here to be able to override the default hidden behavior on the sphinx rendered scikit-learn.org. See: https://github.com/scikit-learn/scikit-learn/issues/21755 */display: inline-block !important;position: relative;}#sk-container-id-1 div.sk-text-repr-fallback {display: none;}</style><div id=\"sk-container-id-1\" class=\"sk-top-container\"><div class=\"sk-text-repr-fallback\"><pre>LinearRegression()</pre><b>In a Jupyter environment, please rerun this cell to show the HTML representation or trust the notebook. <br />On GitHub, the HTML representation is unable to render, please try loading this page with nbviewer.org.</b></div><div class=\"sk-container\" hidden><div class=\"sk-item\"><div class=\"sk-estimator sk-toggleable\"><input class=\"sk-toggleable__control sk-hidden--visually\" id=\"sk-estimator-id-1\" type=\"checkbox\" checked><label for=\"sk-estimator-id-1\" class=\"sk-toggleable__label sk-toggleable__label-arrow\">LinearRegression</label><div class=\"sk-toggleable__content\"><pre>LinearRegression()</pre></div></div></div></div></div>"
            ]
          },
          "metadata": {},
          "execution_count": 24
        }
      ]
    },
    {
      "cell_type": "code",
      "source": [
        "predictions = model.predict(X_test)\n"
      ],
      "metadata": {
        "id": "TKW5Llf8IPU3"
      },
      "execution_count": null,
      "outputs": []
    },
    {
      "cell_type": "markdown",
      "source": [
        "Podjela podataka na skupove za treniranje i testiranje."
      ],
      "metadata": {
        "id": "mmI_KL2FRe_i"
      }
    },
    {
      "cell_type": "code",
      "source": [
        "from sklearn.model_selection import train_test_split\n",
        "\n",
        "X = data[['CO Mean']]\n",
        "y = data['NO2 Mean']\n",
        "\n",
        "X_train, X_test, y_train, y_test = train_test_split(X, y, test_size=0.2, random_state=42)\n"
      ],
      "metadata": {
        "id": "a5AZL-aNIa8v"
      },
      "execution_count": null,
      "outputs": []
    },
    {
      "cell_type": "markdown",
      "source": [
        "###Random forest"
      ],
      "metadata": {
        "id": "_2VHIYMLRj4C"
      }
    },
    {
      "cell_type": "code",
      "source": [
        "from sklearn.ensemble import RandomForestRegressor\n",
        "\n",
        "model_rf = RandomForestRegressor()\n",
        "model_rf.fit(X_train, y_train)\n"
      ],
      "metadata": {
        "colab": {
          "base_uri": "https://localhost:8080/",
          "height": 74
        },
        "id": "5C61t2RuIhfT",
        "outputId": "7ef708fe-5d66-4771-91fd-85443936a19d"
      },
      "execution_count": null,
      "outputs": [
        {
          "output_type": "execute_result",
          "data": {
            "text/plain": [
              "RandomForestRegressor()"
            ],
            "text/html": [
              "<style>#sk-container-id-2 {color: black;background-color: white;}#sk-container-id-2 pre{padding: 0;}#sk-container-id-2 div.sk-toggleable {background-color: white;}#sk-container-id-2 label.sk-toggleable__label {cursor: pointer;display: block;width: 100%;margin-bottom: 0;padding: 0.3em;box-sizing: border-box;text-align: center;}#sk-container-id-2 label.sk-toggleable__label-arrow:before {content: \"▸\";float: left;margin-right: 0.25em;color: #696969;}#sk-container-id-2 label.sk-toggleable__label-arrow:hover:before {color: black;}#sk-container-id-2 div.sk-estimator:hover label.sk-toggleable__label-arrow:before {color: black;}#sk-container-id-2 div.sk-toggleable__content {max-height: 0;max-width: 0;overflow: hidden;text-align: left;background-color: #f0f8ff;}#sk-container-id-2 div.sk-toggleable__content pre {margin: 0.2em;color: black;border-radius: 0.25em;background-color: #f0f8ff;}#sk-container-id-2 input.sk-toggleable__control:checked~div.sk-toggleable__content {max-height: 200px;max-width: 100%;overflow: auto;}#sk-container-id-2 input.sk-toggleable__control:checked~label.sk-toggleable__label-arrow:before {content: \"▾\";}#sk-container-id-2 div.sk-estimator input.sk-toggleable__control:checked~label.sk-toggleable__label {background-color: #d4ebff;}#sk-container-id-2 div.sk-label input.sk-toggleable__control:checked~label.sk-toggleable__label {background-color: #d4ebff;}#sk-container-id-2 input.sk-hidden--visually {border: 0;clip: rect(1px 1px 1px 1px);clip: rect(1px, 1px, 1px, 1px);height: 1px;margin: -1px;overflow: hidden;padding: 0;position: absolute;width: 1px;}#sk-container-id-2 div.sk-estimator {font-family: monospace;background-color: #f0f8ff;border: 1px dotted black;border-radius: 0.25em;box-sizing: border-box;margin-bottom: 0.5em;}#sk-container-id-2 div.sk-estimator:hover {background-color: #d4ebff;}#sk-container-id-2 div.sk-parallel-item::after {content: \"\";width: 100%;border-bottom: 1px solid gray;flex-grow: 1;}#sk-container-id-2 div.sk-label:hover label.sk-toggleable__label {background-color: #d4ebff;}#sk-container-id-2 div.sk-serial::before {content: \"\";position: absolute;border-left: 1px solid gray;box-sizing: border-box;top: 0;bottom: 0;left: 50%;z-index: 0;}#sk-container-id-2 div.sk-serial {display: flex;flex-direction: column;align-items: center;background-color: white;padding-right: 0.2em;padding-left: 0.2em;position: relative;}#sk-container-id-2 div.sk-item {position: relative;z-index: 1;}#sk-container-id-2 div.sk-parallel {display: flex;align-items: stretch;justify-content: center;background-color: white;position: relative;}#sk-container-id-2 div.sk-item::before, #sk-container-id-2 div.sk-parallel-item::before {content: \"\";position: absolute;border-left: 1px solid gray;box-sizing: border-box;top: 0;bottom: 0;left: 50%;z-index: -1;}#sk-container-id-2 div.sk-parallel-item {display: flex;flex-direction: column;z-index: 1;position: relative;background-color: white;}#sk-container-id-2 div.sk-parallel-item:first-child::after {align-self: flex-end;width: 50%;}#sk-container-id-2 div.sk-parallel-item:last-child::after {align-self: flex-start;width: 50%;}#sk-container-id-2 div.sk-parallel-item:only-child::after {width: 0;}#sk-container-id-2 div.sk-dashed-wrapped {border: 1px dashed gray;margin: 0 0.4em 0.5em 0.4em;box-sizing: border-box;padding-bottom: 0.4em;background-color: white;}#sk-container-id-2 div.sk-label label {font-family: monospace;font-weight: bold;display: inline-block;line-height: 1.2em;}#sk-container-id-2 div.sk-label-container {text-align: center;}#sk-container-id-2 div.sk-container {/* jupyter's `normalize.less` sets `[hidden] { display: none; }` but bootstrap.min.css set `[hidden] { display: none !important; }` so we also need the `!important` here to be able to override the default hidden behavior on the sphinx rendered scikit-learn.org. See: https://github.com/scikit-learn/scikit-learn/issues/21755 */display: inline-block !important;position: relative;}#sk-container-id-2 div.sk-text-repr-fallback {display: none;}</style><div id=\"sk-container-id-2\" class=\"sk-top-container\"><div class=\"sk-text-repr-fallback\"><pre>RandomForestRegressor()</pre><b>In a Jupyter environment, please rerun this cell to show the HTML representation or trust the notebook. <br />On GitHub, the HTML representation is unable to render, please try loading this page with nbviewer.org.</b></div><div class=\"sk-container\" hidden><div class=\"sk-item\"><div class=\"sk-estimator sk-toggleable\"><input class=\"sk-toggleable__control sk-hidden--visually\" id=\"sk-estimator-id-2\" type=\"checkbox\" checked><label for=\"sk-estimator-id-2\" class=\"sk-toggleable__label sk-toggleable__label-arrow\">RandomForestRegressor</label><div class=\"sk-toggleable__content\"><pre>RandomForestRegressor()</pre></div></div></div></div></div>"
            ]
          },
          "metadata": {},
          "execution_count": 27
        }
      ]
    },
    {
      "cell_type": "code",
      "source": [
        "predictions_rf = model_rf.predict(X_test)"
      ],
      "metadata": {
        "id": "dy2zJ5atIkDV"
      },
      "execution_count": null,
      "outputs": []
    },
    {
      "cell_type": "markdown",
      "source": [
        "##Evaluacija sa outlierima"
      ],
      "metadata": {
        "id": "mTVwMOfOSMEs"
      }
    },
    {
      "cell_type": "code",
      "source": [
        "from sklearn.metrics import mean_absolute_error\n",
        "\n",
        "mae_lr = mean_absolute_error(y_test, predictions)\n",
        "mae_rf = mean_absolute_error(y_test, predictions_rf)"
      ],
      "metadata": {
        "id": "QQ1sy0r0J-eP"
      },
      "execution_count": null,
      "outputs": []
    },
    {
      "cell_type": "code",
      "source": [
        "from sklearn.metrics import mean_squared_error\n",
        "\n",
        "mse_lr = mean_squared_error(y_test, predictions)\n",
        "mse_rf = mean_squared_error(y_test, predictions_rf)\n"
      ],
      "metadata": {
        "id": "IipmmgooJ-cc"
      },
      "execution_count": null,
      "outputs": []
    },
    {
      "cell_type": "code",
      "source": [
        "from sklearn.metrics import r2_score\n",
        "\n",
        "r2_lr = r2_score(y_test, predictions)\n",
        "r2_rf = r2_score(y_test, predictions_rf)\n"
      ],
      "metadata": {
        "id": "K7VwB-9NKCv_"
      },
      "execution_count": null,
      "outputs": []
    },
    {
      "cell_type": "code",
      "source": [
        "print(\"Linear Regression - MAE:\", mae_lr, \"MSE:\", mse_lr, \"R2:\", r2_lr)\n",
        "print(\"Random Forest - MAE:\", mae_rf, \"MSE:\", mse_rf, \"R2:\", r2_rf)\n"
      ],
      "metadata": {
        "colab": {
          "base_uri": "https://localhost:8080/"
        },
        "id": "XE9dZOUmKFMh",
        "outputId": "627c0286-0ac7-4d01-a622-617977cce2d3"
      },
      "execution_count": null,
      "outputs": [
        {
          "output_type": "stream",
          "name": "stdout",
          "text": [
            "Linear Regression - MAE: 2.8939628060962255 MSE: 13.20538106230566 R2: 0.1470382193021863\n",
            "Random Forest - MAE: 2.620795297313623 MSE: 11.2586478411242 R2: 0.2727815830906303\n"
          ]
        }
      ]
    },
    {
      "cell_type": "markdown",
      "source": [
        "##Linearna regresija i random forest bez outliera"
      ],
      "metadata": {
        "id": "0lTviMQiSYTM"
      }
    },
    {
      "cell_type": "markdown",
      "source": [
        "##Linearna regresija"
      ],
      "metadata": {
        "id": "pcsQXMEmdJPt"
      }
    },
    {
      "cell_type": "code",
      "source": [
        "from sklearn.model_selection import train_test_split\n",
        "\n",
        "X = new_df[['CO Mean']]\n",
        "y = new_df['NO2 Mean']\n",
        "\n",
        "X_train, X_test, y_train, y_test = train_test_split(X, y, test_size=0.2, random_state=42)"
      ],
      "metadata": {
        "id": "-Iyf94YNTKLb"
      },
      "execution_count": null,
      "outputs": []
    },
    {
      "cell_type": "code",
      "source": [
        "from sklearn.linear_model import LinearRegression\n",
        "\n",
        "model = LinearRegression()\n",
        "model.fit(X_train, y_train)\n"
      ],
      "metadata": {
        "colab": {
          "base_uri": "https://localhost:8080/",
          "height": 74
        },
        "id": "o2k5t6FMbmCD",
        "outputId": "7d1df751-d183-422a-b3a3-eeafc2af6be2"
      },
      "execution_count": null,
      "outputs": [
        {
          "output_type": "execute_result",
          "data": {
            "text/plain": [
              "LinearRegression()"
            ],
            "text/html": [
              "<style>#sk-container-id-5 {color: black;background-color: white;}#sk-container-id-5 pre{padding: 0;}#sk-container-id-5 div.sk-toggleable {background-color: white;}#sk-container-id-5 label.sk-toggleable__label {cursor: pointer;display: block;width: 100%;margin-bottom: 0;padding: 0.3em;box-sizing: border-box;text-align: center;}#sk-container-id-5 label.sk-toggleable__label-arrow:before {content: \"▸\";float: left;margin-right: 0.25em;color: #696969;}#sk-container-id-5 label.sk-toggleable__label-arrow:hover:before {color: black;}#sk-container-id-5 div.sk-estimator:hover label.sk-toggleable__label-arrow:before {color: black;}#sk-container-id-5 div.sk-toggleable__content {max-height: 0;max-width: 0;overflow: hidden;text-align: left;background-color: #f0f8ff;}#sk-container-id-5 div.sk-toggleable__content pre {margin: 0.2em;color: black;border-radius: 0.25em;background-color: #f0f8ff;}#sk-container-id-5 input.sk-toggleable__control:checked~div.sk-toggleable__content {max-height: 200px;max-width: 100%;overflow: auto;}#sk-container-id-5 input.sk-toggleable__control:checked~label.sk-toggleable__label-arrow:before {content: \"▾\";}#sk-container-id-5 div.sk-estimator input.sk-toggleable__control:checked~label.sk-toggleable__label {background-color: #d4ebff;}#sk-container-id-5 div.sk-label input.sk-toggleable__control:checked~label.sk-toggleable__label {background-color: #d4ebff;}#sk-container-id-5 input.sk-hidden--visually {border: 0;clip: rect(1px 1px 1px 1px);clip: rect(1px, 1px, 1px, 1px);height: 1px;margin: -1px;overflow: hidden;padding: 0;position: absolute;width: 1px;}#sk-container-id-5 div.sk-estimator {font-family: monospace;background-color: #f0f8ff;border: 1px dotted black;border-radius: 0.25em;box-sizing: border-box;margin-bottom: 0.5em;}#sk-container-id-5 div.sk-estimator:hover {background-color: #d4ebff;}#sk-container-id-5 div.sk-parallel-item::after {content: \"\";width: 100%;border-bottom: 1px solid gray;flex-grow: 1;}#sk-container-id-5 div.sk-label:hover label.sk-toggleable__label {background-color: #d4ebff;}#sk-container-id-5 div.sk-serial::before {content: \"\";position: absolute;border-left: 1px solid gray;box-sizing: border-box;top: 0;bottom: 0;left: 50%;z-index: 0;}#sk-container-id-5 div.sk-serial {display: flex;flex-direction: column;align-items: center;background-color: white;padding-right: 0.2em;padding-left: 0.2em;position: relative;}#sk-container-id-5 div.sk-item {position: relative;z-index: 1;}#sk-container-id-5 div.sk-parallel {display: flex;align-items: stretch;justify-content: center;background-color: white;position: relative;}#sk-container-id-5 div.sk-item::before, #sk-container-id-5 div.sk-parallel-item::before {content: \"\";position: absolute;border-left: 1px solid gray;box-sizing: border-box;top: 0;bottom: 0;left: 50%;z-index: -1;}#sk-container-id-5 div.sk-parallel-item {display: flex;flex-direction: column;z-index: 1;position: relative;background-color: white;}#sk-container-id-5 div.sk-parallel-item:first-child::after {align-self: flex-end;width: 50%;}#sk-container-id-5 div.sk-parallel-item:last-child::after {align-self: flex-start;width: 50%;}#sk-container-id-5 div.sk-parallel-item:only-child::after {width: 0;}#sk-container-id-5 div.sk-dashed-wrapped {border: 1px dashed gray;margin: 0 0.4em 0.5em 0.4em;box-sizing: border-box;padding-bottom: 0.4em;background-color: white;}#sk-container-id-5 div.sk-label label {font-family: monospace;font-weight: bold;display: inline-block;line-height: 1.2em;}#sk-container-id-5 div.sk-label-container {text-align: center;}#sk-container-id-5 div.sk-container {/* jupyter's `normalize.less` sets `[hidden] { display: none; }` but bootstrap.min.css set `[hidden] { display: none !important; }` so we also need the `!important` here to be able to override the default hidden behavior on the sphinx rendered scikit-learn.org. See: https://github.com/scikit-learn/scikit-learn/issues/21755 */display: inline-block !important;position: relative;}#sk-container-id-5 div.sk-text-repr-fallback {display: none;}</style><div id=\"sk-container-id-5\" class=\"sk-top-container\"><div class=\"sk-text-repr-fallback\"><pre>LinearRegression()</pre><b>In a Jupyter environment, please rerun this cell to show the HTML representation or trust the notebook. <br />On GitHub, the HTML representation is unable to render, please try loading this page with nbviewer.org.</b></div><div class=\"sk-container\" hidden><div class=\"sk-item\"><div class=\"sk-estimator sk-toggleable\"><input class=\"sk-toggleable__control sk-hidden--visually\" id=\"sk-estimator-id-5\" type=\"checkbox\" checked><label for=\"sk-estimator-id-5\" class=\"sk-toggleable__label sk-toggleable__label-arrow\">LinearRegression</label><div class=\"sk-toggleable__content\"><pre>LinearRegression()</pre></div></div></div></div></div>"
            ]
          },
          "metadata": {},
          "execution_count": 46
        }
      ]
    },
    {
      "cell_type": "code",
      "source": [
        "predictions = model.predict(X_test)\n"
      ],
      "metadata": {
        "id": "IRomgr4Cbqlj"
      },
      "execution_count": null,
      "outputs": []
    },
    {
      "cell_type": "markdown",
      "source": [
        "##Random forest"
      ],
      "metadata": {
        "id": "pU3G0U4KdMgD"
      }
    },
    {
      "cell_type": "code",
      "source": [
        "from sklearn.model_selection import train_test_split\n",
        "\n",
        "X = new_df[['CO Mean']]\n",
        "y = new_df['NO2 Mean']\n",
        "\n",
        "X_train, X_test, y_train, y_test = train_test_split(X, y, test_size=0.2, random_state=42)\n"
      ],
      "metadata": {
        "id": "5V4IvFW0bvS7"
      },
      "execution_count": null,
      "outputs": []
    },
    {
      "cell_type": "code",
      "source": [
        "from sklearn.ensemble import RandomForestRegressor\n",
        "\n",
        "model_rf = RandomForestRegressor()\n",
        "model_rf.fit(X_train, y_train)\n"
      ],
      "metadata": {
        "colab": {
          "base_uri": "https://localhost:8080/",
          "height": 74
        },
        "id": "n7NPeUnMb1_8",
        "outputId": "68f32c1f-7fda-41d2-cbe7-9651175bbe4f"
      },
      "execution_count": null,
      "outputs": [
        {
          "output_type": "execute_result",
          "data": {
            "text/plain": [
              "RandomForestRegressor()"
            ],
            "text/html": [
              "<style>#sk-container-id-4 {color: black;background-color: white;}#sk-container-id-4 pre{padding: 0;}#sk-container-id-4 div.sk-toggleable {background-color: white;}#sk-container-id-4 label.sk-toggleable__label {cursor: pointer;display: block;width: 100%;margin-bottom: 0;padding: 0.3em;box-sizing: border-box;text-align: center;}#sk-container-id-4 label.sk-toggleable__label-arrow:before {content: \"▸\";float: left;margin-right: 0.25em;color: #696969;}#sk-container-id-4 label.sk-toggleable__label-arrow:hover:before {color: black;}#sk-container-id-4 div.sk-estimator:hover label.sk-toggleable__label-arrow:before {color: black;}#sk-container-id-4 div.sk-toggleable__content {max-height: 0;max-width: 0;overflow: hidden;text-align: left;background-color: #f0f8ff;}#sk-container-id-4 div.sk-toggleable__content pre {margin: 0.2em;color: black;border-radius: 0.25em;background-color: #f0f8ff;}#sk-container-id-4 input.sk-toggleable__control:checked~div.sk-toggleable__content {max-height: 200px;max-width: 100%;overflow: auto;}#sk-container-id-4 input.sk-toggleable__control:checked~label.sk-toggleable__label-arrow:before {content: \"▾\";}#sk-container-id-4 div.sk-estimator input.sk-toggleable__control:checked~label.sk-toggleable__label {background-color: #d4ebff;}#sk-container-id-4 div.sk-label input.sk-toggleable__control:checked~label.sk-toggleable__label {background-color: #d4ebff;}#sk-container-id-4 input.sk-hidden--visually {border: 0;clip: rect(1px 1px 1px 1px);clip: rect(1px, 1px, 1px, 1px);height: 1px;margin: -1px;overflow: hidden;padding: 0;position: absolute;width: 1px;}#sk-container-id-4 div.sk-estimator {font-family: monospace;background-color: #f0f8ff;border: 1px dotted black;border-radius: 0.25em;box-sizing: border-box;margin-bottom: 0.5em;}#sk-container-id-4 div.sk-estimator:hover {background-color: #d4ebff;}#sk-container-id-4 div.sk-parallel-item::after {content: \"\";width: 100%;border-bottom: 1px solid gray;flex-grow: 1;}#sk-container-id-4 div.sk-label:hover label.sk-toggleable__label {background-color: #d4ebff;}#sk-container-id-4 div.sk-serial::before {content: \"\";position: absolute;border-left: 1px solid gray;box-sizing: border-box;top: 0;bottom: 0;left: 50%;z-index: 0;}#sk-container-id-4 div.sk-serial {display: flex;flex-direction: column;align-items: center;background-color: white;padding-right: 0.2em;padding-left: 0.2em;position: relative;}#sk-container-id-4 div.sk-item {position: relative;z-index: 1;}#sk-container-id-4 div.sk-parallel {display: flex;align-items: stretch;justify-content: center;background-color: white;position: relative;}#sk-container-id-4 div.sk-item::before, #sk-container-id-4 div.sk-parallel-item::before {content: \"\";position: absolute;border-left: 1px solid gray;box-sizing: border-box;top: 0;bottom: 0;left: 50%;z-index: -1;}#sk-container-id-4 div.sk-parallel-item {display: flex;flex-direction: column;z-index: 1;position: relative;background-color: white;}#sk-container-id-4 div.sk-parallel-item:first-child::after {align-self: flex-end;width: 50%;}#sk-container-id-4 div.sk-parallel-item:last-child::after {align-self: flex-start;width: 50%;}#sk-container-id-4 div.sk-parallel-item:only-child::after {width: 0;}#sk-container-id-4 div.sk-dashed-wrapped {border: 1px dashed gray;margin: 0 0.4em 0.5em 0.4em;box-sizing: border-box;padding-bottom: 0.4em;background-color: white;}#sk-container-id-4 div.sk-label label {font-family: monospace;font-weight: bold;display: inline-block;line-height: 1.2em;}#sk-container-id-4 div.sk-label-container {text-align: center;}#sk-container-id-4 div.sk-container {/* jupyter's `normalize.less` sets `[hidden] { display: none; }` but bootstrap.min.css set `[hidden] { display: none !important; }` so we also need the `!important` here to be able to override the default hidden behavior on the sphinx rendered scikit-learn.org. See: https://github.com/scikit-learn/scikit-learn/issues/21755 */display: inline-block !important;position: relative;}#sk-container-id-4 div.sk-text-repr-fallback {display: none;}</style><div id=\"sk-container-id-4\" class=\"sk-top-container\"><div class=\"sk-text-repr-fallback\"><pre>RandomForestRegressor()</pre><b>In a Jupyter environment, please rerun this cell to show the HTML representation or trust the notebook. <br />On GitHub, the HTML representation is unable to render, please try loading this page with nbviewer.org.</b></div><div class=\"sk-container\" hidden><div class=\"sk-item\"><div class=\"sk-estimator sk-toggleable\"><input class=\"sk-toggleable__control sk-hidden--visually\" id=\"sk-estimator-id-4\" type=\"checkbox\" checked><label for=\"sk-estimator-id-4\" class=\"sk-toggleable__label sk-toggleable__label-arrow\">RandomForestRegressor</label><div class=\"sk-toggleable__content\"><pre>RandomForestRegressor()</pre></div></div></div></div></div>"
            ]
          },
          "metadata": {},
          "execution_count": 41
        }
      ]
    },
    {
      "cell_type": "code",
      "source": [
        "predictions_rf = model_rf.predict(X_test)"
      ],
      "metadata": {
        "id": "teOBuufub8Rr"
      },
      "execution_count": null,
      "outputs": []
    },
    {
      "cell_type": "markdown",
      "source": [
        "##Evaluacija bez outliera"
      ],
      "metadata": {
        "id": "iaZw_CFec9io"
      }
    },
    {
      "cell_type": "code",
      "source": [
        "mae_lr = mean_absolute_error(y_test, predictions)\n",
        "mae_rf = mean_absolute_error(y_test, predictions_rf)\n",
        "mse_lr = mean_squared_error(y_test, predictions)\n",
        "mse_rf = mean_squared_error(y_test, predictions_rf)\n",
        "r2_lr = r2_score(y_test, predictions)\n",
        "r2_rf = r2_score(y_test, predictions_rf)"
      ],
      "metadata": {
        "id": "X-cZ_41bb_KQ"
      },
      "execution_count": null,
      "outputs": []
    },
    {
      "cell_type": "code",
      "source": [
        "print(\"Linear Regression - MAE:\", mae_lr, \"MSE:\", mse_lr, \"R2:\", r2_lr)\n",
        "print(\"Random Forest - MAE:\", mae_rf, \"MSE:\", mse_rf, \"R2:\", r2_rf)\n"
      ],
      "metadata": {
        "colab": {
          "base_uri": "https://localhost:8080/"
        },
        "id": "US42BGhlcLt3",
        "outputId": "da2f9f69-bc36-47bb-ed89-36b602ae5b8f"
      },
      "execution_count": null,
      "outputs": [
        {
          "output_type": "stream",
          "name": "stdout",
          "text": [
            "Linear Regression - MAE: 2.8939628060962255 MSE: 13.20538106230566 R2: 0.1470382193021863\n",
            "Random Forest - MAE: 2.6231452311089463 MSE: 11.324048860571464 R2: 0.26855720139774397\n"
          ]
        }
      ]
    },
    {
      "cell_type": "markdown",
      "source": [
        "Linearna regresija i Random Forest regresija su trenirani na podacima o kvaliteti zraka.\n",
        "Performanse oba modela su evaluirane koristeći MAE, MSE i R2 metrike na odvojenom skupu za testiranje. Dolazimo do zaključka kako uklanjanjem outliera random forest daje lošije predviđanje, nego sa outlierima, dok kod linearne regresije ostaje nepromjenjeno, no u oba slučaja precizniji je algoritam linearne regresije."
      ],
      "metadata": {
        "id": "r0eU8IlaQyWv"
      }
    }
  ]
}